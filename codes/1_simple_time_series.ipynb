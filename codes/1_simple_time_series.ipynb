{
 "cells": [
  {
   "cell_type": "code",
   "execution_count": 1,
   "id": "5893ba0e",
   "metadata": {},
   "outputs": [],
   "source": [
    "from copy import deepcopy\n",
    "\n",
    "import numpy as np\n",
    "import pandas as pd\n",
    "\n",
    "from tensorflow.keras.layers import *\n",
    "from tensorflow.keras.models import Model\n",
    "from tensorflow.keras.optimizers import Adam\n",
    "from tensorflow.keras.callbacks import EarlyStopping, ModelCheckpoint\n",
    "from tensorflow.keras.losses import MeanSquaredError"
   ]
  },
  {
   "cell_type": "code",
   "execution_count": 2,
   "id": "7ea5f403",
   "metadata": {},
   "outputs": [],
   "source": [
    "# 총 2040개의 데이터\n",
    "# 0:1992 -> train\n",
    "# 1992:2016 -> valid\n",
    "# 2016:2040 -> test\n",
    "\n",
    "CONFIGS = {\n",
    "    'data_path': '../data/',\n",
    "    'model_path': '../model/',\n",
    "    \n",
    "    'test_lenght': 24,\n",
    "    'valid_start_index': 1992,\n",
    "    'test_start_index': 2016,\n",
    "    \n",
    "    'batch_size': 64,\n",
    "    'learning_rate': 1e-4,\n",
    "    'epochs': 100,\n",
    "    \n",
    "    'window_size': 7*24,\n",
    "    'target_length': 3,\n",
    "}"
   ]
  },
  {
   "cell_type": "code",
   "execution_count": 3,
   "id": "fd2fa30f",
   "metadata": {},
   "outputs": [],
   "source": [
    "data_path = '../data/'\n",
    "\n",
    "train_origin = pd.read_csv(data_path+'train.csv', encoding='cp949')"
   ]
  },
  {
   "cell_type": "code",
   "execution_count": 4,
   "id": "6f3d371c",
   "metadata": {},
   "outputs": [
    {
     "name": "stdout",
     "output_type": "stream",
     "text": [
      "data.shape: (2040, 1)\n"
     ]
    }
   ],
   "source": [
    "data = deepcopy(train_origin)\n",
    "\n",
    "data.columns = [\n",
    "    'num', 'date_time', 'target', 'temp', 'wind',\n",
    "    'humid', 'rain', 'sun', 'non_elec_eq', 'sunlight_eq'\n",
    "]\n",
    "\n",
    "data = data.loc[data['num'] == 1, ['target']]\n",
    "\n",
    "print(f'data.shape: {data.shape}')"
   ]
  },
  {
   "cell_type": "code",
   "execution_count": 5,
   "id": "6bdd549c",
   "metadata": {},
   "outputs": [],
   "source": [
    "input_cols = [f't-{i}' for i in range(CONFIGS['window_size'], 0, -1)]\n",
    "target_cols = [f't+{i}' for i in range(CONFIGS['target_length'])]\n",
    "\n",
    "CONFIGS['input_cols'] = input_cols\n",
    "CONFIGS['target_cols'] = target_cols"
   ]
  },
  {
   "cell_type": "code",
   "execution_count": 6,
   "id": "3c5ea78a",
   "metadata": {},
   "outputs": [],
   "source": [
    "def mk_time_series(data):\n",
    "    \n",
    "    new_data_length = data.shape[0]-CONFIGS['window_size']-CONFIGS['target_length']+1\n",
    "    new_data_shape = (new_data_length, CONFIGS['window_size']+CONFIGS['target_length'])\n",
    "    new_data = np.zeros(new_data_shape)\n",
    "\n",
    "    for i in range(new_data_length):\n",
    "        new_data[i, :CONFIGS['window_size']] = data['target'][i:i+CONFIGS['window_size']]\n",
    "        new_data[i, CONFIGS['window_size']:] = \\\n",
    "            data['target'][i+CONFIGS['window_size']:i+CONFIGS['window_size']+CONFIGS['target_length']]\n",
    "\n",
    "    new_data = pd.DataFrame(new_data)\n",
    "    new_data.columns = input_cols + target_cols\n",
    "    \n",
    "    return new_data"
   ]
  },
  {
   "cell_type": "code",
   "execution_count": 7,
   "id": "acfd74ea",
   "metadata": {},
   "outputs": [],
   "source": [
    "def split_data(data, CONFIGS):\n",
    "    \n",
    "    train = data[:CONFIGS['valid_start_index']]\n",
    "    valid = data[\n",
    "        CONFIGS['valid_start_index']-CONFIGS['window_size']:\\\n",
    "        CONFIGS['valid_start_index']+CONFIGS['test_lenght']\n",
    "    ]\n",
    "    test = data[\n",
    "        CONFIGS['test_start_index']-CONFIGS['window_size']:\\\n",
    "        CONFIGS['test_start_index']+CONFIGS['test_lenght']\n",
    "    ]\n",
    "    \n",
    "    train, valid, test = \\\n",
    "        mk_time_series(train), mk_time_series(valid), mk_time_series(test)\n",
    "    \n",
    "    return train, valid, test"
   ]
  },
  {
   "cell_type": "code",
   "execution_count": 8,
   "id": "5013b6d6",
   "metadata": {},
   "outputs": [],
   "source": [
    "train, valid, test = split_data(data, CONFIGS)"
   ]
  },
  {
   "cell_type": "code",
   "execution_count": 9,
   "id": "b4d01667",
   "metadata": {},
   "outputs": [],
   "source": [
    "def set_model(CONFIGS, model_name='model', print_summary=False):\n",
    "    inputs = Input(batch_shape=(None, CONFIGS['window_size']), name='inputs')\n",
    "    dense_0 = Dense(64, activation='relu', name='dense_0')(inputs)\n",
    "    dense_1 = Dense(32, activation='relu', name='dense_1')(dense_0)\n",
    "    outputs = Dense(CONFIGS['target_length'], name='outputs')(dense_1)\n",
    "    \n",
    "    model = Model(\n",
    "        inputs, outputs,\n",
    "        name = model_name\n",
    "    )\n",
    "    \n",
    "    optimizer = Adam(learning_rate=CONFIGS['learning_rate'])\n",
    "    model.compile(\n",
    "        loss = 'mse',\n",
    "        optimizer = optimizer,\n",
    "    )\n",
    "    \n",
    "    if print_summary:\n",
    "        model.summary()\n",
    "    \n",
    "    return model"
   ]
  },
  {
   "cell_type": "code",
   "execution_count": 10,
   "id": "a446abff",
   "metadata": {
    "scrolled": true
   },
   "outputs": [
    {
     "name": "stdout",
     "output_type": "stream",
     "text": [
      "Model: \"super_basic\"\n",
      "_________________________________________________________________\n",
      "Layer (type)                 Output Shape              Param #   \n",
      "=================================================================\n",
      "inputs (InputLayer)          [(None, 168)]             0         \n",
      "_________________________________________________________________\n",
      "dense_0 (Dense)              (None, 64)                10816     \n",
      "_________________________________________________________________\n",
      "dense_1 (Dense)              (None, 32)                2080      \n",
      "_________________________________________________________________\n",
      "outputs (Dense)              (None, 3)                 99        \n",
      "=================================================================\n",
      "Total params: 12,995\n",
      "Trainable params: 12,995\n",
      "Non-trainable params: 0\n",
      "_________________________________________________________________\n"
     ]
    }
   ],
   "source": [
    "model_name = 'super_basic'\n",
    "CONFIGS['model_name'] = model_name\n",
    "\n",
    "model = set_model(CONFIGS, model_name=model_name, print_summary=True)"
   ]
  },
  {
   "cell_type": "code",
   "execution_count": 11,
   "id": "f120102c",
   "metadata": {},
   "outputs": [],
   "source": [
    "def train_model(model, train, valid, CONFIGS):\n",
    "    \n",
    "    X_train, y_train = train[CONFIGS['input_cols']], train[CONFIGS['target_cols']]\n",
    "    X_valid, y_valid = valid[CONFIGS['input_cols']], valid[CONFIGS['target_cols']]\n",
    "    \n",
    "    early_stop = EarlyStopping(\n",
    "        patience=10\n",
    "    )\n",
    "    save_best_only = ModelCheckpoint(\n",
    "        filepath = f'{CONFIGS[\"model_path\"]}{CONFIGS[\"model_name\"]}.h5',\n",
    "        monitor = 'val_loss',\n",
    "        save_best_only = True,\n",
    "        save_weights_only = True\n",
    "    )\n",
    "    \n",
    "    history = model.fit(\n",
    "        X_train, y_train,\n",
    "        batch_size = CONFIGS['batch_size'],\n",
    "        epochs = CONFIGS['epochs'],\n",
    "        validation_data = (X_valid, y_valid),\n",
    "        callbacks = [\n",
    "            early_stop,\n",
    "            save_best_only,\n",
    "        ]\n",
    "    )\n",
    "    \n",
    "    return history"
   ]
  },
  {
   "cell_type": "code",
   "execution_count": 12,
   "id": "8179dd95",
   "metadata": {
    "scrolled": true
   },
   "outputs": [
    {
     "name": "stdout",
     "output_type": "stream",
     "text": [
      "Epoch 1/100\n",
      "29/29 [==============================] - 1s 4ms/step - loss: 2392141.7500 - val_loss: 216664.7031\n",
      "Epoch 2/100\n",
      "29/29 [==============================] - 0s 2ms/step - loss: 60439.7734 - val_loss: 19564.6094\n",
      "Epoch 3/100\n",
      "29/29 [==============================] - 0s 2ms/step - loss: 15164.8154 - val_loss: 22807.6836\n",
      "Epoch 4/100\n",
      "29/29 [==============================] - 0s 2ms/step - loss: 12590.3711 - val_loss: 19685.1953\n",
      "Epoch 5/100\n",
      "29/29 [==============================] - 0s 2ms/step - loss: 12461.7422 - val_loss: 19341.0645\n",
      "Epoch 6/100\n",
      "29/29 [==============================] - 0s 2ms/step - loss: 12318.7998 - val_loss: 20145.3770\n",
      "Epoch 7/100\n",
      "29/29 [==============================] - 0s 2ms/step - loss: 12138.7012 - val_loss: 20628.7832\n",
      "Epoch 8/100\n",
      "29/29 [==============================] - 0s 2ms/step - loss: 12098.7842 - val_loss: 19611.3340\n",
      "Epoch 9/100\n",
      "29/29 [==============================] - 0s 2ms/step - loss: 12068.0430 - val_loss: 19737.1738\n",
      "Epoch 10/100\n",
      "29/29 [==============================] - 0s 2ms/step - loss: 12043.0703 - val_loss: 18937.1855\n",
      "Epoch 11/100\n",
      "29/29 [==============================] - 0s 2ms/step - loss: 12033.4521 - val_loss: 18948.2012\n",
      "Epoch 12/100\n",
      "29/29 [==============================] - 0s 2ms/step - loss: 12087.2100 - val_loss: 19700.0977\n",
      "Epoch 13/100\n",
      "29/29 [==============================] - 0s 2ms/step - loss: 11975.7998 - val_loss: 22468.2559\n",
      "Epoch 14/100\n",
      "29/29 [==============================] - 0s 2ms/step - loss: 12002.4814 - val_loss: 18620.2012\n",
      "Epoch 15/100\n",
      "29/29 [==============================] - 0s 2ms/step - loss: 12123.0859 - val_loss: 18913.2246\n",
      "Epoch 16/100\n",
      "29/29 [==============================] - 0s 2ms/step - loss: 12136.8301 - val_loss: 22706.4238\n",
      "Epoch 17/100\n",
      "29/29 [==============================] - 0s 2ms/step - loss: 11921.8779 - val_loss: 18909.0391\n",
      "Epoch 18/100\n",
      "29/29 [==============================] - 0s 2ms/step - loss: 11850.1494 - val_loss: 19749.8457\n",
      "Epoch 19/100\n",
      "29/29 [==============================] - 0s 2ms/step - loss: 11889.7881 - val_loss: 21474.2207\n",
      "Epoch 20/100\n",
      "29/29 [==============================] - 0s 2ms/step - loss: 11856.8291 - val_loss: 20895.3242\n",
      "Epoch 21/100\n",
      "29/29 [==============================] - 0s 2ms/step - loss: 11797.4785 - val_loss: 19482.4824\n",
      "Epoch 22/100\n",
      "29/29 [==============================] - 0s 2ms/step - loss: 12298.4092 - val_loss: 20027.3945\n",
      "Epoch 23/100\n",
      "29/29 [==============================] - 0s 2ms/step - loss: 11925.3633 - val_loss: 20880.8398\n",
      "Epoch 24/100\n",
      "29/29 [==============================] - 0s 2ms/step - loss: 11701.0684 - val_loss: 18226.5332\n",
      "Epoch 25/100\n",
      "29/29 [==============================] - 0s 2ms/step - loss: 11704.7588 - val_loss: 17228.5762\n",
      "Epoch 26/100\n",
      "29/29 [==============================] - 0s 2ms/step - loss: 11922.3398 - val_loss: 22803.8691\n",
      "Epoch 27/100\n",
      "29/29 [==============================] - 0s 2ms/step - loss: 11716.8916 - val_loss: 17324.9707\n",
      "Epoch 28/100\n",
      "29/29 [==============================] - 0s 2ms/step - loss: 11883.2764 - val_loss: 17634.8613\n",
      "Epoch 29/100\n",
      "29/29 [==============================] - 0s 2ms/step - loss: 11670.7637 - val_loss: 23721.7344\n",
      "Epoch 30/100\n",
      "29/29 [==============================] - 0s 2ms/step - loss: 11737.0889 - val_loss: 24015.9297\n",
      "Epoch 31/100\n",
      "29/29 [==============================] - 0s 2ms/step - loss: 11542.6963 - val_loss: 16176.1279\n",
      "Epoch 32/100\n",
      "29/29 [==============================] - 0s 2ms/step - loss: 11580.1152 - val_loss: 18759.0254\n",
      "Epoch 33/100\n",
      "29/29 [==============================] - 0s 2ms/step - loss: 11431.3174 - val_loss: 17125.3105\n",
      "Epoch 34/100\n",
      "29/29 [==============================] - 0s 2ms/step - loss: 11458.4639 - val_loss: 20991.2480\n",
      "Epoch 35/100\n",
      "29/29 [==============================] - 0s 2ms/step - loss: 11401.8457 - val_loss: 17864.9727\n",
      "Epoch 36/100\n",
      "29/29 [==============================] - 0s 2ms/step - loss: 11424.7246 - val_loss: 22279.5391\n",
      "Epoch 37/100\n",
      "29/29 [==============================] - 0s 2ms/step - loss: 11482.0762 - val_loss: 19139.6270\n",
      "Epoch 38/100\n",
      "29/29 [==============================] - 0s 2ms/step - loss: 11192.7148 - val_loss: 21335.9180\n",
      "Epoch 39/100\n",
      "29/29 [==============================] - 0s 2ms/step - loss: 11384.8662 - val_loss: 15356.5664\n",
      "Epoch 40/100\n",
      "29/29 [==============================] - 0s 2ms/step - loss: 11336.6621 - val_loss: 20516.9238\n",
      "Epoch 41/100\n",
      "29/29 [==============================] - 0s 2ms/step - loss: 11125.0957 - val_loss: 18774.7129\n",
      "Epoch 42/100\n",
      "29/29 [==============================] - 0s 2ms/step - loss: 11206.0889 - val_loss: 16843.3281\n",
      "Epoch 43/100\n",
      "29/29 [==============================] - 0s 2ms/step - loss: 11008.5752 - val_loss: 15091.5742\n",
      "Epoch 44/100\n",
      "29/29 [==============================] - 0s 2ms/step - loss: 11079.8467 - val_loss: 16396.0293\n",
      "Epoch 45/100\n",
      "29/29 [==============================] - 0s 2ms/step - loss: 10958.6113 - val_loss: 22588.6758\n",
      "Epoch 46/100\n",
      "29/29 [==============================] - 0s 2ms/step - loss: 11157.9434 - val_loss: 18352.0508\n",
      "Epoch 47/100\n",
      "29/29 [==============================] - 0s 2ms/step - loss: 11309.4219 - val_loss: 14910.4941\n",
      "Epoch 48/100\n",
      "29/29 [==============================] - 0s 2ms/step - loss: 11070.4961 - val_loss: 16201.5186\n",
      "Epoch 49/100\n",
      "29/29 [==============================] - 0s 2ms/step - loss: 10873.5498 - val_loss: 16925.7207\n",
      "Epoch 50/100\n",
      "29/29 [==============================] - 0s 2ms/step - loss: 11086.9824 - val_loss: 18697.6387\n",
      "Epoch 51/100\n",
      "29/29 [==============================] - 0s 2ms/step - loss: 10760.3809 - val_loss: 20072.8027\n",
      "Epoch 52/100\n",
      "29/29 [==============================] - 0s 2ms/step - loss: 10766.7275 - val_loss: 16781.3574\n",
      "Epoch 53/100\n",
      "29/29 [==============================] - 0s 2ms/step - loss: 10773.7891 - val_loss: 23088.5176\n",
      "Epoch 54/100\n",
      "29/29 [==============================] - 0s 2ms/step - loss: 11003.2666 - val_loss: 17731.4707\n",
      "Epoch 55/100\n",
      "29/29 [==============================] - 0s 2ms/step - loss: 10502.2617 - val_loss: 17678.4590\n",
      "Epoch 56/100\n",
      "29/29 [==============================] - 0s 2ms/step - loss: 10841.9365 - val_loss: 21928.4258\n",
      "Epoch 57/100\n",
      "29/29 [==============================] - 0s 2ms/step - loss: 11132.5322 - val_loss: 18367.8203\n"
     ]
    }
   ],
   "source": [
    "history = train_model(model, train, valid, CONFIGS)"
   ]
  },
  {
   "cell_type": "code",
   "execution_count": 13,
   "id": "bec53ea7",
   "metadata": {},
   "outputs": [],
   "source": [
    "best_model = set_model(CONFIGS, model_name='best_'+CONFIGS['model_name'])\n",
    "best_model.load_weights(f'{CONFIGS[\"model_path\"]}{CONFIGS[\"model_name\"]}.h5')"
   ]
  },
  {
   "cell_type": "code",
   "execution_count": 14,
   "id": "e87104d7",
   "metadata": {},
   "outputs": [],
   "source": [
    "X_train, y_train = train[CONFIGS['input_cols']], train[CONFIGS['target_cols']]\n",
    "X_valid, y_valid = valid[CONFIGS['input_cols']], valid[CONFIGS['target_cols']]\n",
    "X_test, y_test = test[CONFIGS['input_cols']], test[CONFIGS['target_cols']]\n",
    "\n",
    "y_train_pred = best_model.predict(X_train)\n",
    "y_valid_pred = best_model.predict(X_valid)\n",
    "y_test_pred = best_model.predict(X_test)"
   ]
  },
  {
   "cell_type": "code",
   "execution_count": 15,
   "id": "2e94d02c",
   "metadata": {},
   "outputs": [
    {
     "name": "stdout",
     "output_type": "stream",
     "text": [
      "train_loss: 11173.70703125\n",
      "valid_loss: 14910.494140625\n",
      "test_loss: 21849.96875\n"
     ]
    }
   ],
   "source": [
    "mse = MeanSquaredError()\n",
    "\n",
    "train_loss = mse(y_train, y_train_pred).numpy()\n",
    "valid_loss = mse(y_valid, y_valid_pred).numpy()\n",
    "test_loss = mse(y_test, y_test_pred).numpy()\n",
    "\n",
    "print(f'train_loss: {train_loss}')\n",
    "print(f'valid_loss: {valid_loss}')\n",
    "print(f'test_loss: {test_loss}')"
   ]
  },
  {
   "cell_type": "code",
   "execution_count": null,
   "id": "139bbaf6",
   "metadata": {},
   "outputs": [],
   "source": []
  }
 ],
 "metadata": {
  "kernelspec": {
   "display_name": "Python 3",
   "language": "python",
   "name": "python3"
  },
  "language_info": {
   "codemirror_mode": {
    "name": "ipython",
    "version": 3
   },
   "file_extension": ".py",
   "mimetype": "text/x-python",
   "name": "python",
   "nbconvert_exporter": "python",
   "pygments_lexer": "ipython3",
   "version": "3.6.9"
  }
 },
 "nbformat": 4,
 "nbformat_minor": 5
}
