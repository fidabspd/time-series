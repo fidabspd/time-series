{
 "cells": [
  {
   "cell_type": "code",
   "execution_count": 1,
   "id": "ba5aca2d",
   "metadata": {},
   "outputs": [],
   "source": [
    "from copy import deepcopy\n",
    "\n",
    "import numpy as np\n",
    "import pandas as pd\n",
    "\n",
    "from tensorflow.data import Dataset\n",
    "from tensorflow.keras.layers import *\n",
    "from tensorflow.keras.models import Model\n",
    "from tensorflow.keras.optimizers import Adam\n",
    "from tensorflow.keras.callbacks import EarlyStopping, ModelCheckpoint\n",
    "from tensorflow.keras.losses import MeanSquaredError"
   ]
  },
  {
   "cell_type": "code",
   "execution_count": 2,
   "id": "4ac38dca",
   "metadata": {},
   "outputs": [],
   "source": [
    "CONFIGS = {\n",
    "    'data_path': '../data/',\n",
    "    'model_path': '../model/',\n",
    "    'model_name': 'using_dataset',\n",
    "    \n",
    "    'test_lenght': 24,\n",
    "    'valid_start_index': 1992,\n",
    "    'test_start_index': 2016,\n",
    "    \n",
    "    'batch_size': 64,\n",
    "    'learning_rate': 1e-4,\n",
    "    'epochs': 100,\n",
    "    'es_patience': 10,\n",
    "    \n",
    "    'window_size': 7*24,\n",
    "    'target_length': 3,\n",
    "}"
   ]
  },
  {
   "cell_type": "code",
   "execution_count": 3,
   "id": "2ffa3953",
   "metadata": {},
   "outputs": [],
   "source": [
    "data_path = '../data/'\n",
    "\n",
    "train_origin = pd.read_csv(data_path+'train.csv', encoding='cp949')"
   ]
  },
  {
   "cell_type": "code",
   "execution_count": 4,
   "id": "d178e934",
   "metadata": {},
   "outputs": [
    {
     "name": "stdout",
     "output_type": "stream",
     "text": [
      "data.shape: (2040, 1)\n"
     ]
    }
   ],
   "source": [
    "data = deepcopy(train_origin)\n",
    "\n",
    "data.columns = [\n",
    "    'num', 'date_time', 'target', 'temp', 'wind',\n",
    "    'humid', 'rain', 'sun', 'non_elec_eq', 'sunlight_eq'\n",
    "]\n",
    "\n",
    "data = data.loc[data['num'] == 1, ['target']]\n",
    "\n",
    "print(f'data.shape: {data.shape}')"
   ]
  },
  {
   "cell_type": "code",
   "execution_count": 5,
   "id": "53c18573",
   "metadata": {},
   "outputs": [],
   "source": [
    "train = data.loc[:CONFIGS['valid_start_index'], 'target']\n",
    "valid = data.loc[CONFIGS['valid_start_index']-CONFIGS['window_size']:CONFIGS['test_start_index'], 'target']\n",
    "test = data.loc[CONFIGS['test_start_index']-CONFIGS['window_size']:, 'target']"
   ]
  },
  {
   "cell_type": "code",
   "execution_count": 6,
   "id": "c2c40b63",
   "metadata": {},
   "outputs": [],
   "source": [
    "def mk_dataset(data, shuffle=False):\n",
    "    ds = Dataset.from_tensor_slices(data)\n",
    "    ds = ds.window(CONFIGS['window_size']+CONFIGS['target_length'], shift=1, drop_remainder=True)\n",
    "    ds = ds.flat_map(lambda x: x)\n",
    "    ds = ds.batch(CONFIGS['window_size']+CONFIGS['target_length'])\n",
    "    if shuffle:\n",
    "        ds = ds.shuffle(512)\n",
    "    ds = ds.map(lambda x: (x[:CONFIGS['window_size']], x[CONFIGS['window_size']:]))\n",
    "    ds = ds.batch(CONFIGS['batch_size']).cache().prefetch(2)\n",
    "    return ds"
   ]
  },
  {
   "cell_type": "code",
   "execution_count": 7,
   "id": "e239b5a3",
   "metadata": {},
   "outputs": [],
   "source": [
    "def mk_dataset(data, shuffle=False):\n",
    "    \n",
    "    X = data[:-CONFIGS['target_length']]\n",
    "    y = data[CONFIGS['window_size']:]\n",
    "    \n",
    "    X_ds = Dataset.from_tensor_slices(X)\n",
    "    X_ds = X_ds.window(CONFIGS['window_size'], shift=1, drop_remainder=True)\n",
    "    X_ds = X_ds.flat_map(lambda x: x).batch(CONFIGS['window_size'])\n",
    "    \n",
    "    y_ds = Dataset.from_tensor_slices(y)\n",
    "    y_ds = y_ds.window(CONFIGS['target_length'], shift=1, drop_remainder=True)\n",
    "    y_ds = y_ds.flat_map(lambda x: x).batch(CONFIGS['target_length'])\n",
    "    \n",
    "    ds = Dataset.zip((X_ds, y_ds))\n",
    "    if shuffle:\n",
    "        ds = ds.shuffle(512)\n",
    "    ds = ds.batch(CONFIGS['batch_size']).cache().prefetch(2)\n",
    "    \n",
    "    return ds"
   ]
  },
  {
   "cell_type": "code",
   "execution_count": 8,
   "id": "832d0773",
   "metadata": {},
   "outputs": [],
   "source": [
    "train_ds = mk_dataset(train, shuffle=True)\n",
    "valid_ds = mk_dataset(valid)\n",
    "test_ds = mk_dataset(test)"
   ]
  },
  {
   "cell_type": "code",
   "execution_count": 9,
   "id": "061bdf14",
   "metadata": {},
   "outputs": [],
   "source": [
    "def set_model(CONFIGS, model_name = None, print_summary=False):\n",
    "    inputs = Input(batch_shape=(None, CONFIGS['window_size']), name='inputs')\n",
    "    dense_0 = Dense(64, activation='relu', name='dense_0')(inputs)\n",
    "    dense_1 = Dense(32, activation='relu', name='dense_1')(dense_0)\n",
    "    outputs = Dense(CONFIGS['target_length'], name='outputs')(dense_1)\n",
    "    \n",
    "    if not model_name:\n",
    "        model_name = CONFIGS['model_name']\n",
    "    \n",
    "    model = Model(\n",
    "        inputs, outputs,\n",
    "        name = model_name\n",
    "    )\n",
    "    \n",
    "    optimizer = Adam(learning_rate=CONFIGS['learning_rate'])\n",
    "    model.compile(\n",
    "        loss = 'mse',\n",
    "        optimizer = optimizer,\n",
    "    )\n",
    "    \n",
    "    if print_summary:\n",
    "        model.summary()\n",
    "    \n",
    "    return model"
   ]
  },
  {
   "cell_type": "code",
   "execution_count": 10,
   "id": "5f7f330d",
   "metadata": {},
   "outputs": [
    {
     "name": "stdout",
     "output_type": "stream",
     "text": [
      "Model: \"using_dataset\"\n",
      "_________________________________________________________________\n",
      "Layer (type)                 Output Shape              Param #   \n",
      "=================================================================\n",
      "inputs (InputLayer)          [(None, 168)]             0         \n",
      "_________________________________________________________________\n",
      "dense_0 (Dense)              (None, 64)                10816     \n",
      "_________________________________________________________________\n",
      "dense_1 (Dense)              (None, 32)                2080      \n",
      "_________________________________________________________________\n",
      "outputs (Dense)              (None, 3)                 99        \n",
      "=================================================================\n",
      "Total params: 12,995\n",
      "Trainable params: 12,995\n",
      "Non-trainable params: 0\n",
      "_________________________________________________________________\n"
     ]
    }
   ],
   "source": [
    "model = set_model(CONFIGS, print_summary=True)"
   ]
  },
  {
   "cell_type": "code",
   "execution_count": 11,
   "id": "a89ab345",
   "metadata": {},
   "outputs": [],
   "source": [
    "def train_model(model, train_ds, valid_ds, CONFIGS):\n",
    "    \n",
    "    early_stop = EarlyStopping(\n",
    "        patience=CONFIGS['es_patience']\n",
    "    )\n",
    "    save_best_only = ModelCheckpoint(\n",
    "        filepath = f'{CONFIGS[\"model_path\"]}{CONFIGS[\"model_name\"]}.h5',\n",
    "        monitor = 'val_loss',\n",
    "        save_best_only = True,\n",
    "        save_weights_only = True\n",
    "    )\n",
    "    \n",
    "    history = model.fit(\n",
    "        train_ds,\n",
    "        batch_size = CONFIGS['batch_size'],\n",
    "        epochs = CONFIGS['epochs'],\n",
    "        validation_data = valid_ds,\n",
    "        callbacks = [\n",
    "            early_stop,\n",
    "            save_best_only,\n",
    "        ]\n",
    "    )\n",
    "    \n",
    "    return history"
   ]
  },
  {
   "cell_type": "code",
   "execution_count": 12,
   "id": "456b660b",
   "metadata": {},
   "outputs": [
    {
     "name": "stdout",
     "output_type": "stream",
     "text": [
      "Epoch 1/100\n",
      "29/29 [==============================] - 1s 6ms/step - loss: 25702896.0000 - val_loss: 3053784.2500\n",
      "Epoch 2/100\n",
      "29/29 [==============================] - 0s 2ms/step - loss: 652600.1875 - val_loss: 159718.4531\n",
      "Epoch 3/100\n",
      "29/29 [==============================] - 0s 2ms/step - loss: 46150.2578 - val_loss: 11819.3604\n",
      "Epoch 4/100\n",
      "29/29 [==============================] - 0s 2ms/step - loss: 9755.6777 - val_loss: 14450.7373\n",
      "Epoch 5/100\n",
      "29/29 [==============================] - 0s 2ms/step - loss: 9133.9746 - val_loss: 15494.8896\n",
      "Epoch 6/100\n",
      "29/29 [==============================] - 0s 2ms/step - loss: 9111.5303 - val_loss: 14906.9512\n",
      "Epoch 7/100\n",
      "29/29 [==============================] - 0s 2ms/step - loss: 9102.0488 - val_loss: 15074.6934\n",
      "Epoch 8/100\n",
      "29/29 [==============================] - 0s 2ms/step - loss: 9102.6748 - val_loss: 15111.5801\n",
      "Epoch 9/100\n",
      "29/29 [==============================] - 0s 2ms/step - loss: 9102.7686 - val_loss: 15168.0322\n",
      "Epoch 10/100\n",
      "29/29 [==============================] - 0s 2ms/step - loss: 9102.8828 - val_loss: 15219.9297\n",
      "Epoch 11/100\n",
      "29/29 [==============================] - 0s 2ms/step - loss: 9102.9189 - val_loss: 15269.2500\n",
      "Epoch 12/100\n",
      "29/29 [==============================] - 0s 2ms/step - loss: 9102.7959 - val_loss: 15309.4404\n",
      "Epoch 13/100\n",
      "29/29 [==============================] - 0s 2ms/step - loss: 9102.4150 - val_loss: 15338.2441\n"
     ]
    }
   ],
   "source": [
    "history = train_model(model, train_ds, valid_ds, CONFIGS)"
   ]
  },
  {
   "cell_type": "code",
   "execution_count": 13,
   "id": "e3affb87",
   "metadata": {},
   "outputs": [],
   "source": [
    "best_model = set_model(CONFIGS, model_name='best_'+CONFIGS['model_name'])\n",
    "best_model.load_weights(f'{CONFIGS[\"model_path\"]}{CONFIGS[\"model_name\"]}.h5')"
   ]
  },
  {
   "cell_type": "code",
   "execution_count": 14,
   "id": "d0d41640",
   "metadata": {},
   "outputs": [],
   "source": [
    "y_train_pred = best_model.predict(train_ds)\n",
    "y_valid_pred = best_model.predict(valid_ds)\n",
    "y_test_pred = best_model.predict(test_ds)"
   ]
  },
  {
   "cell_type": "code",
   "execution_count": 15,
   "id": "96ae1a3f",
   "metadata": {},
   "outputs": [
    {
     "name": "stdout",
     "output_type": "stream",
     "text": [
      "train_loss: 10389.0869140625\n",
      "valid_loss: 11819.3603515625\n",
      "test_loss: 10346.9599609375\n"
     ]
    }
   ],
   "source": [
    "mse = MeanSquaredError()\n",
    "\n",
    "train_loss = best_model.evaluate(train_ds, verbose=0)\n",
    "valid_loss = best_model.evaluate(valid_ds, verbose=0)\n",
    "test_loss = best_model.evaluate(test_ds, verbose=0)\n",
    "\n",
    "print(f'train_loss: {train_loss}')\n",
    "print(f'valid_loss: {valid_loss}')\n",
    "print(f'test_loss: {test_loss}')"
   ]
  },
  {
   "cell_type": "code",
   "execution_count": null,
   "id": "507a825b",
   "metadata": {},
   "outputs": [],
   "source": []
  }
 ],
 "metadata": {
  "kernelspec": {
   "display_name": "Python 3",
   "language": "python",
   "name": "python3"
  },
  "language_info": {
   "codemirror_mode": {
    "name": "ipython",
    "version": 3
   },
   "file_extension": ".py",
   "mimetype": "text/x-python",
   "name": "python",
   "nbconvert_exporter": "python",
   "pygments_lexer": "ipython3",
   "version": "3.6.9"
  }
 },
 "nbformat": 4,
 "nbformat_minor": 5
}
