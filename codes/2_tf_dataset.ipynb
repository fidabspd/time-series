{
 "cells": [
  {
   "cell_type": "code",
   "execution_count": 1,
   "id": "ba5aca2d",
   "metadata": {},
   "outputs": [],
   "source": [
    "from copy import deepcopy\n",
    "\n",
    "import numpy as np\n",
    "import pandas as pd\n",
    "\n",
    "from tensorflow.data import Dataset\n",
    "from tensorflow.keras.layers import *\n",
    "from tensorflow.keras.models import Model\n",
    "from tensorflow.keras.optimizers import Adam\n",
    "from tensorflow.keras.callbacks import EarlyStopping, ModelCheckpoint\n",
    "from tensorflow.keras.losses import MeanSquaredError"
   ]
  },
  {
   "cell_type": "code",
   "execution_count": 2,
   "id": "4ac38dca",
   "metadata": {},
   "outputs": [],
   "source": [
    "CONFIGS = {\n",
    "    'data_path': '../data/',\n",
    "    'model_path': '../model/',\n",
    "    'model_name': 'using_dataset',\n",
    "    \n",
    "    'test_lenght': 24,\n",
    "    'valid_start_index': 1992,\n",
    "    'test_start_index': 2016,\n",
    "    \n",
    "    'batch_size': 64,\n",
    "    'learning_rate': 1e-4,\n",
    "    'epochs': 100,\n",
    "    'es_patience': 10,\n",
    "    \n",
    "    'window_size': 7*24,\n",
    "    'target_length': 3,\n",
    "}"
   ]
  },
  {
   "cell_type": "code",
   "execution_count": 3,
   "id": "2ffa3953",
   "metadata": {},
   "outputs": [],
   "source": [
    "data_path = '../data/'\n",
    "\n",
    "train_origin = pd.read_csv(data_path+'train.csv', encoding='cp949')"
   ]
  },
  {
   "cell_type": "code",
   "execution_count": 4,
   "id": "d178e934",
   "metadata": {},
   "outputs": [
    {
     "name": "stdout",
     "output_type": "stream",
     "text": [
      "data.shape: (2040, 2)\n"
     ]
    }
   ],
   "source": [
    "data = deepcopy(train_origin)\n",
    "\n",
    "data.columns = [\n",
    "    'num', 'date_time', 'target', 'temp', 'wind',\n",
    "    'humid', 'rain', 'sun', 'non_elec_eq', 'sunlight_eq'\n",
    "]\n",
    "\n",
    "data = data.loc[data['num'] == 1, ['date_time', 'target']]\n",
    "\n",
    "print(f'data.shape: {data.shape}')"
   ]
  },
  {
   "cell_type": "code",
   "execution_count": 5,
   "id": "53c18573",
   "metadata": {},
   "outputs": [],
   "source": [
    "train = data.loc[:CONFIGS['valid_start_index'], 'target']\n",
    "valid = data.loc[CONFIGS['valid_start_index']-CONFIGS['window_size']:CONFIGS['test_start_index'], 'target']\n",
    "test = data.loc[CONFIGS['test_start_index']-CONFIGS['window_size']:, 'target']"
   ]
  },
  {
   "cell_type": "code",
   "execution_count": 6,
   "id": "e239b5a3",
   "metadata": {},
   "outputs": [],
   "source": [
    "def mk_dataset(data, shuffle=False):\n",
    "    \n",
    "    X = data[:-CONFIGS['target_length']]\n",
    "    y = data[CONFIGS['window_size']:]\n",
    "    \n",
    "    X_ds = Dataset.from_tensor_slices(X)\n",
    "    X_ds = X_ds.window(CONFIGS['window_size'], shift=1, drop_remainder=True)\n",
    "    X_ds = X_ds.flat_map(lambda x: x).batch(CONFIGS['window_size'])\n",
    "    \n",
    "    y_ds = Dataset.from_tensor_slices(y)\n",
    "    y_ds = y_ds.window(CONFIGS['target_length'], shift=1, drop_remainder=True)\n",
    "    y_ds = y_ds.flat_map(lambda x: x).batch(CONFIGS['target_length'])\n",
    "    \n",
    "    ds = Dataset.zip((X_ds, y_ds))\n",
    "    if shuffle:\n",
    "        ds = ds.shuffle(512)\n",
    "    ds = ds.batch(CONFIGS['batch_size']).cache().prefetch(2)\n",
    "    \n",
    "    return ds"
   ]
  },
  {
   "cell_type": "code",
   "execution_count": 7,
   "id": "832d0773",
   "metadata": {},
   "outputs": [],
   "source": [
    "train_ds = mk_dataset(train, shuffle=True)\n",
    "valid_ds = mk_dataset(valid)\n",
    "test_ds = mk_dataset(test)"
   ]
  },
  {
   "cell_type": "code",
   "execution_count": 8,
   "id": "061bdf14",
   "metadata": {},
   "outputs": [],
   "source": [
    "def set_model(CONFIGS, model_name = None, print_summary=False):\n",
    "    inputs = Input(batch_shape=(None, CONFIGS['window_size']), name='inputs')\n",
    "    dense_0 = Dense(64, activation='relu', name='dense_0')(inputs)\n",
    "    dense_1 = Dense(32, activation='relu', name='dense_1')(dense_0)\n",
    "    outputs = Dense(CONFIGS['target_length'], name='outputs')(dense_1)\n",
    "    \n",
    "    if not model_name:\n",
    "        model_name = CONFIGS['model_name']\n",
    "    \n",
    "    model = Model(\n",
    "        inputs, outputs,\n",
    "        name = model_name\n",
    "    )\n",
    "    \n",
    "    optimizer = Adam(learning_rate=CONFIGS['learning_rate'])\n",
    "    model.compile(\n",
    "        loss = MeanSquaredError(),\n",
    "        optimizer = optimizer,\n",
    "    )\n",
    "    \n",
    "    if print_summary:\n",
    "        model.summary()\n",
    "    \n",
    "    return model"
   ]
  },
  {
   "cell_type": "code",
   "execution_count": 9,
   "id": "5f7f330d",
   "metadata": {},
   "outputs": [
    {
     "name": "stdout",
     "output_type": "stream",
     "text": [
      "Model: \"using_dataset\"\n",
      "_________________________________________________________________\n",
      "Layer (type)                 Output Shape              Param #   \n",
      "=================================================================\n",
      "inputs (InputLayer)          [(None, 168)]             0         \n",
      "_________________________________________________________________\n",
      "dense_0 (Dense)              (None, 64)                10816     \n",
      "_________________________________________________________________\n",
      "dense_1 (Dense)              (None, 32)                2080      \n",
      "_________________________________________________________________\n",
      "outputs (Dense)              (None, 3)                 99        \n",
      "=================================================================\n",
      "Total params: 12,995\n",
      "Trainable params: 12,995\n",
      "Non-trainable params: 0\n",
      "_________________________________________________________________\n"
     ]
    }
   ],
   "source": [
    "model = set_model(CONFIGS, print_summary=True)"
   ]
  },
  {
   "cell_type": "code",
   "execution_count": 10,
   "id": "a89ab345",
   "metadata": {},
   "outputs": [],
   "source": [
    "def train_model(model, train_ds, valid_ds, CONFIGS):\n",
    "    \n",
    "    early_stop = EarlyStopping(\n",
    "        patience=CONFIGS['es_patience']\n",
    "    )\n",
    "    save_best_only = ModelCheckpoint(\n",
    "        filepath = f'{CONFIGS[\"model_path\"]}{CONFIGS[\"model_name\"]}.h5',\n",
    "        monitor = 'val_loss',\n",
    "        save_best_only = True,\n",
    "        save_weights_only = True\n",
    "    )\n",
    "    \n",
    "    history = model.fit(\n",
    "        train_ds,\n",
    "        batch_size = CONFIGS['batch_size'],\n",
    "        epochs = CONFIGS['epochs'],\n",
    "        validation_data = valid_ds,\n",
    "        callbacks = [\n",
    "            early_stop,\n",
    "            save_best_only,\n",
    "        ]\n",
    "    )\n",
    "    \n",
    "    return history"
   ]
  },
  {
   "cell_type": "code",
   "execution_count": 11,
   "id": "456b660b",
   "metadata": {},
   "outputs": [
    {
     "name": "stdout",
     "output_type": "stream",
     "text": [
      "Epoch 1/100\n",
      "29/29 [==============================] - 1s 6ms/step - loss: 53111208.0000 - val_loss: 30510230.0000\n",
      "Epoch 2/100\n",
      "29/29 [==============================] - 0s 2ms/step - loss: 20358592.0000 - val_loss: 10402436.0000\n",
      "Epoch 3/100\n",
      "29/29 [==============================] - 0s 2ms/step - loss: 6040045.0000 - val_loss: 1896179.1250\n",
      "Epoch 4/100\n",
      "29/29 [==============================] - 0s 2ms/step - loss: 719989.3125 - val_loss: 18211.7754\n",
      "Epoch 5/100\n",
      "29/29 [==============================] - 0s 2ms/step - loss: 14112.1777 - val_loss: 27216.6816\n",
      "Epoch 6/100\n",
      "29/29 [==============================] - 0s 2ms/step - loss: 9303.0381 - val_loss: 15117.3232\n",
      "Epoch 7/100\n",
      "29/29 [==============================] - 0s 2ms/step - loss: 7662.9302 - val_loss: 13330.0322\n",
      "Epoch 8/100\n",
      "29/29 [==============================] - 0s 2ms/step - loss: 7459.7109 - val_loss: 14102.7021\n",
      "Epoch 9/100\n",
      "29/29 [==============================] - 0s 2ms/step - loss: 7374.8794 - val_loss: 14117.9922\n",
      "Epoch 10/100\n",
      "29/29 [==============================] - 0s 2ms/step - loss: 7295.9316 - val_loss: 14247.2041\n",
      "Epoch 11/100\n",
      "29/29 [==============================] - 0s 2ms/step - loss: 7244.8994 - val_loss: 14354.1943\n",
      "Epoch 12/100\n",
      "29/29 [==============================] - 0s 2ms/step - loss: 7208.0059 - val_loss: 14450.8516\n",
      "Epoch 13/100\n",
      "29/29 [==============================] - 0s 2ms/step - loss: 7181.9995 - val_loss: 14516.5498\n",
      "Epoch 14/100\n",
      "29/29 [==============================] - 0s 2ms/step - loss: 7158.6899 - val_loss: 14582.9268\n",
      "Epoch 15/100\n",
      "29/29 [==============================] - 0s 2ms/step - loss: 7138.8018 - val_loss: 14676.1064\n",
      "Epoch 16/100\n",
      "29/29 [==============================] - 0s 2ms/step - loss: 7126.3467 - val_loss: 14734.3887\n",
      "Epoch 17/100\n",
      "29/29 [==============================] - 0s 2ms/step - loss: 7114.9067 - val_loss: 14805.4893\n"
     ]
    }
   ],
   "source": [
    "history = train_model(model, train_ds, valid_ds, CONFIGS)"
   ]
  },
  {
   "cell_type": "code",
   "execution_count": 12,
   "id": "e3affb87",
   "metadata": {},
   "outputs": [],
   "source": [
    "best_model = set_model(CONFIGS, model_name='best_'+CONFIGS['model_name'])\n",
    "best_model.load_weights(f'{CONFIGS[\"model_path\"]}{CONFIGS[\"model_name\"]}.h5')"
   ]
  },
  {
   "cell_type": "code",
   "execution_count": 13,
   "id": "d0d41640",
   "metadata": {},
   "outputs": [],
   "source": [
    "y_train_pred = best_model.predict(train_ds)\n",
    "y_valid_pred = best_model.predict(valid_ds)\n",
    "y_test_pred = best_model.predict(test_ds)"
   ]
  },
  {
   "cell_type": "code",
   "execution_count": 14,
   "id": "96ae1a3f",
   "metadata": {},
   "outputs": [
    {
     "name": "stdout",
     "output_type": "stream",
     "text": [
      "train_loss: 7508.27001953125\n",
      "valid_loss: 13330.0322265625\n",
      "test_loss: 13318.1591796875\n"
     ]
    }
   ],
   "source": [
    "train_loss = best_model.evaluate(train_ds, verbose=0)\n",
    "valid_loss = best_model.evaluate(valid_ds, verbose=0)\n",
    "test_loss = best_model.evaluate(test_ds, verbose=0)\n",
    "\n",
    "print(f'train_loss: {train_loss}')\n",
    "print(f'valid_loss: {valid_loss}')\n",
    "print(f'test_loss: {test_loss}')"
   ]
  },
  {
   "cell_type": "code",
   "execution_count": null,
   "id": "26476f5e",
   "metadata": {},
   "outputs": [],
   "source": []
  }
 ],
 "metadata": {
  "kernelspec": {
   "display_name": "Python 3",
   "language": "python",
   "name": "python3"
  },
  "language_info": {
   "codemirror_mode": {
    "name": "ipython",
    "version": 3
   },
   "file_extension": ".py",
   "mimetype": "text/x-python",
   "name": "python",
   "nbconvert_exporter": "python",
   "pygments_lexer": "ipython3",
   "version": "3.6.9"
  }
 },
 "nbformat": 4,
 "nbformat_minor": 5
}
