{
 "cells": [
  {
   "cell_type": "code",
   "execution_count": 1,
   "id": "ba5aca2d",
   "metadata": {},
   "outputs": [],
   "source": [
    "from copy import deepcopy\n",
    "\n",
    "import numpy as np\n",
    "import pandas as pd\n",
    "\n",
    "from tensorflow.data import Dataset\n",
    "from tensorflow.keras.layers import *\n",
    "from tensorflow.keras.models import Model\n",
    "from tensorflow.keras.optimizers import Adam\n",
    "from tensorflow.keras.callbacks import EarlyStopping, ModelCheckpoint\n",
    "from tensorflow.keras.losses import MeanSquaredError"
   ]
  },
  {
   "cell_type": "code",
   "execution_count": 2,
   "id": "4ac38dca",
   "metadata": {},
   "outputs": [],
   "source": [
    "CONFIGS = {\n",
    "    'data_path': '../data/',\n",
    "    'model_path': '../model/',\n",
    "    'model_name': 'using_dataset',\n",
    "    \n",
    "    'test_lenght': 24,\n",
    "    'valid_start_index': 1992,\n",
    "    'test_start_index': 2016,\n",
    "    \n",
    "    'batch_size': 64,\n",
    "    'learning_rate': 1e-4,\n",
    "    'epochs': 100,\n",
    "    'es_patience': 10,\n",
    "    \n",
    "    'window_size': 7*24,\n",
    "    'target_length': 3,\n",
    "}"
   ]
  },
  {
   "cell_type": "code",
   "execution_count": 3,
   "id": "2ffa3953",
   "metadata": {},
   "outputs": [],
   "source": [
    "data_path = '../data/'\n",
    "\n",
    "train_origin = pd.read_csv(data_path+'train.csv', encoding='cp949')"
   ]
  },
  {
   "cell_type": "code",
   "execution_count": 4,
   "id": "d178e934",
   "metadata": {},
   "outputs": [
    {
     "name": "stdout",
     "output_type": "stream",
     "text": [
      "data.shape: (2040, 1)\n"
     ]
    }
   ],
   "source": [
    "data = deepcopy(train_origin)\n",
    "\n",
    "data.columns = [\n",
    "    'num', 'date_time', 'target', 'temp', 'wind',\n",
    "    'humid', 'rain', 'sun', 'non_elec_eq', 'sunlight_eq'\n",
    "]\n",
    "\n",
    "data = data.loc[data['num'] == 1, ['target']]\n",
    "\n",
    "print(f'data.shape: {data.shape}')"
   ]
  },
  {
   "cell_type": "code",
   "execution_count": 5,
   "id": "53c18573",
   "metadata": {},
   "outputs": [],
   "source": [
    "train = data.loc[:CONFIGS['valid_start_index'], 'target']\n",
    "valid = data.loc[CONFIGS['valid_start_index']-CONFIGS['window_size']:CONFIGS['test_start_index'], 'target']\n",
    "test = data.loc[CONFIGS['test_start_index']-CONFIGS['window_size']:, 'target']"
   ]
  },
  {
   "cell_type": "code",
   "execution_count": 6,
   "id": "e239b5a3",
   "metadata": {},
   "outputs": [],
   "source": [
    "def mk_dataset(data, shuffle=False):\n",
    "    ds = Dataset.from_tensor_slices(data)\n",
    "    ds = ds.window(CONFIGS['window_size']+CONFIGS['target_length'], shift=1, drop_remainder=True)\n",
    "    ds = ds.flat_map(lambda x: x)\n",
    "    ds = ds.batch(CONFIGS['window_size']+CONFIGS['target_length'])\n",
    "    if shuffle:\n",
    "        ds = ds.shuffle(512)\n",
    "    ds = ds.map(lambda x: (x[:CONFIGS['window_size']], x[CONFIGS['window_size']:]))\n",
    "    ds = ds.batch(CONFIGS['batch_size']).cache().prefetch(2)\n",
    "    return ds"
   ]
  },
  {
   "cell_type": "code",
   "execution_count": 7,
   "id": "832d0773",
   "metadata": {},
   "outputs": [],
   "source": [
    "train_ds = mk_dataset(train, shuffle=True)\n",
    "valid_ds = mk_dataset(valid)\n",
    "test_ds = mk_dataset(test)"
   ]
  },
  {
   "cell_type": "code",
   "execution_count": 8,
   "id": "061bdf14",
   "metadata": {},
   "outputs": [],
   "source": [
    "def set_model(CONFIGS, model_name = None, print_summary=False):\n",
    "    inputs = Input(batch_shape=(None, CONFIGS['window_size']), name='inputs')\n",
    "    dense_0 = Dense(64, activation='relu', name='dense_0')(inputs)\n",
    "    dense_1 = Dense(32, activation='relu', name='dense_1')(dense_0)\n",
    "    outputs = Dense(CONFIGS['target_length'], name='outputs')(dense_1)\n",
    "    \n",
    "    if not model_name:\n",
    "        model_name = CONFIGS['model_name']\n",
    "    \n",
    "    model = Model(\n",
    "        inputs, outputs,\n",
    "        name = model_name\n",
    "    )\n",
    "    \n",
    "    optimizer = Adam(learning_rate=CONFIGS['learning_rate'])\n",
    "    model.compile(\n",
    "        loss = 'mse',\n",
    "        optimizer = optimizer,\n",
    "    )\n",
    "    \n",
    "    if print_summary:\n",
    "        model.summary()\n",
    "    \n",
    "    return model"
   ]
  },
  {
   "cell_type": "code",
   "execution_count": 9,
   "id": "5f7f330d",
   "metadata": {},
   "outputs": [
    {
     "name": "stdout",
     "output_type": "stream",
     "text": [
      "Model: \"using_dataset\"\n",
      "_________________________________________________________________\n",
      "Layer (type)                 Output Shape              Param #   \n",
      "=================================================================\n",
      "inputs (InputLayer)          [(None, 168)]             0         \n",
      "_________________________________________________________________\n",
      "dense_0 (Dense)              (None, 64)                10816     \n",
      "_________________________________________________________________\n",
      "dense_1 (Dense)              (None, 32)                2080      \n",
      "_________________________________________________________________\n",
      "outputs (Dense)              (None, 3)                 99        \n",
      "=================================================================\n",
      "Total params: 12,995\n",
      "Trainable params: 12,995\n",
      "Non-trainable params: 0\n",
      "_________________________________________________________________\n"
     ]
    }
   ],
   "source": [
    "model = set_model(CONFIGS, print_summary=True)"
   ]
  },
  {
   "cell_type": "code",
   "execution_count": 10,
   "id": "a89ab345",
   "metadata": {},
   "outputs": [],
   "source": [
    "def train_model(model, train_ds, valid_ds, CONFIGS):\n",
    "    \n",
    "    early_stop = EarlyStopping(\n",
    "        patience=CONFIGS['es_patience']\n",
    "    )\n",
    "    save_best_only = ModelCheckpoint(\n",
    "        filepath = f'{CONFIGS[\"model_path\"]}{CONFIGS[\"model_name\"]}.h5',\n",
    "        monitor = 'val_loss',\n",
    "        save_best_only = True,\n",
    "        save_weights_only = True\n",
    "    )\n",
    "    \n",
    "    history = model.fit(\n",
    "        train_ds,\n",
    "        batch_size = CONFIGS['batch_size'],\n",
    "        epochs = CONFIGS['epochs'],\n",
    "        validation_data = valid_ds,\n",
    "        callbacks = [\n",
    "            early_stop,\n",
    "            save_best_only,\n",
    "        ]\n",
    "    )\n",
    "    \n",
    "    return history"
   ]
  },
  {
   "cell_type": "code",
   "execution_count": 11,
   "id": "456b660b",
   "metadata": {},
   "outputs": [
    {
     "name": "stdout",
     "output_type": "stream",
     "text": [
      "Epoch 1/100\n",
      "29/29 [==============================] - 1s 7ms/step - loss: 39216632.0000 - val_loss: 9952302.0000\n",
      "Epoch 2/100\n",
      "29/29 [==============================] - 0s 2ms/step - loss: 4171096.5000 - val_loss: 698378.9375\n",
      "Epoch 3/100\n",
      "29/29 [==============================] - 0s 2ms/step - loss: 279479.6562 - val_loss: 25856.8867\n",
      "Epoch 4/100\n",
      "29/29 [==============================] - 0s 2ms/step - loss: 17563.3965 - val_loss: 15005.7979\n",
      "Epoch 5/100\n",
      "29/29 [==============================] - 0s 2ms/step - loss: 7543.8452 - val_loss: 17559.1562\n",
      "Epoch 6/100\n",
      "29/29 [==============================] - 0s 2ms/step - loss: 7314.7109 - val_loss: 16008.2998\n",
      "Epoch 7/100\n",
      "29/29 [==============================] - 0s 2ms/step - loss: 7114.8501 - val_loss: 15395.7910\n",
      "Epoch 8/100\n",
      "29/29 [==============================] - 0s 2ms/step - loss: 7017.8374 - val_loss: 15369.9131\n",
      "Epoch 9/100\n",
      "29/29 [==============================] - 0s 2ms/step - loss: 6954.6685 - val_loss: 15343.7471\n",
      "Epoch 10/100\n",
      "29/29 [==============================] - 0s 2ms/step - loss: 6894.8140 - val_loss: 15245.6504\n",
      "Epoch 11/100\n",
      "29/29 [==============================] - 0s 2ms/step - loss: 6827.6357 - val_loss: 15155.2012\n",
      "Epoch 12/100\n",
      "29/29 [==============================] - 0s 2ms/step - loss: 6761.8262 - val_loss: 15058.0107\n",
      "Epoch 13/100\n",
      "29/29 [==============================] - 0s 2ms/step - loss: 6716.1689 - val_loss: 15093.3916\n",
      "Epoch 14/100\n",
      "29/29 [==============================] - 0s 2ms/step - loss: 6687.1245 - val_loss: 15154.9834\n"
     ]
    }
   ],
   "source": [
    "history = train_model(model, train_ds, valid_ds, CONFIGS)"
   ]
  },
  {
   "cell_type": "code",
   "execution_count": 12,
   "id": "e3affb87",
   "metadata": {},
   "outputs": [],
   "source": [
    "best_model = set_model(CONFIGS, model_name='best_'+CONFIGS['model_name'])\n",
    "best_model.load_weights(f'{CONFIGS[\"model_path\"]}{CONFIGS[\"model_name\"]}.h5')"
   ]
  },
  {
   "cell_type": "code",
   "execution_count": 13,
   "id": "60fa261a",
   "metadata": {},
   "outputs": [],
   "source": [
    "def mk_y_true(data):\n",
    "    data = data[CONFIGS['window_size']:]\n",
    "    ds = Dataset.from_tensor_slices(data)\n",
    "    ds = ds.window(CONFIGS['target_length'], shift=1, drop_remainder=True)\n",
    "    ds = ds.flat_map(lambda x: x).batch(CONFIGS['target_length'])\n",
    "    return np.array(list(ds.as_numpy_iterator()))"
   ]
  },
  {
   "cell_type": "code",
   "execution_count": 14,
   "id": "d0d41640",
   "metadata": {},
   "outputs": [],
   "source": [
    "y_train = mk_y_true(train)\n",
    "y_valid = mk_y_true(valid)\n",
    "y_test = mk_y_true(test)\n",
    "\n",
    "y_train_pred = best_model.predict(train_ds)\n",
    "y_valid_pred = best_model.predict(valid_ds)\n",
    "y_test_pred = best_model.predict(test_ds)"
   ]
  },
  {
   "cell_type": "code",
   "execution_count": 15,
   "id": "96ae1a3f",
   "metadata": {},
   "outputs": [
    {
     "name": "stdout",
     "output_type": "stream",
     "text": [
      "train_loss: 11478.693359375\n",
      "valid_loss: 15005.7978515625\n",
      "test_loss: 13216.8125\n"
     ]
    }
   ],
   "source": [
    "mse = MeanSquaredError()\n",
    "\n",
    "train_loss = mse(y_train, y_train_pred).numpy()\n",
    "valid_loss = mse(y_valid, y_valid_pred).numpy()\n",
    "test_loss = mse(y_test, y_test_pred).numpy()\n",
    "\n",
    "print(f'train_loss: {train_loss}')\n",
    "print(f'valid_loss: {valid_loss}')\n",
    "print(f'test_loss: {test_loss}')"
   ]
  },
  {
   "cell_type": "code",
   "execution_count": null,
   "id": "6a10c2f7",
   "metadata": {},
   "outputs": [],
   "source": []
  }
 ],
 "metadata": {
  "kernelspec": {
   "display_name": "Python 3",
   "language": "python",
   "name": "python3"
  },
  "language_info": {
   "codemirror_mode": {
    "name": "ipython",
    "version": 3
   },
   "file_extension": ".py",
   "mimetype": "text/x-python",
   "name": "python",
   "nbconvert_exporter": "python",
   "pygments_lexer": "ipython3",
   "version": "3.6.9"
  }
 },
 "nbformat": 4,
 "nbformat_minor": 5
}
