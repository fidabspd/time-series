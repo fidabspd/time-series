{
 "cells": [
  {
   "cell_type": "code",
   "execution_count": 1,
   "id": "a71698c0",
   "metadata": {},
   "outputs": [],
   "source": [
    "from copy import deepcopy\n",
    "\n",
    "import numpy as np\n",
    "import pandas as pd\n",
    "\n",
    "import datetime\n",
    "\n",
    "import tensorflow as tf\n",
    "from tensorflow.data import Dataset\n",
    "from tensorflow.keras.layers import *\n",
    "from tensorflow.keras.models import Model\n",
    "from tensorflow.keras.optimizers import Adam\n",
    "from tensorflow.keras.callbacks import EarlyStopping, ModelCheckpoint\n",
    "from tensorflow.keras.losses import MeanSquaredError"
   ]
  },
  {
   "cell_type": "code",
   "execution_count": 2,
   "id": "7c1b37d7",
   "metadata": {},
   "outputs": [],
   "source": [
    "CONFIGS = {\n",
    "    'data_path': '../data/',\n",
    "    'model_path': '../model/',\n",
    "    'model_name': 'multi_task_learning',\n",
    "    'model_type': 'cnn1d',\n",
    "    \n",
    "    'valid_start_date_time': '2020-08-11 00',\n",
    "    'test_start_index': '2020-08-18 00',\n",
    "    \n",
    "    'batch_size': 64,\n",
    "    'learning_rate': 1e-4,\n",
    "    'epochs': 100,\n",
    "    'es_patience': 10,\n",
    "    \n",
    "    'window_size': 7*24,\n",
    "    'target_length': 3,\n",
    "}"
   ]
  },
  {
   "cell_type": "code",
   "execution_count": 3,
   "id": "f9b93ce0",
   "metadata": {},
   "outputs": [],
   "source": [
    "train_origin = pd.read_csv(CONFIGS['data_path']+'train.csv', encoding='cp949')"
   ]
  },
  {
   "cell_type": "code",
   "execution_count": 4,
   "id": "e02856a7",
   "metadata": {},
   "outputs": [
    {
     "name": "stdout",
     "output_type": "stream",
     "text": [
      "data.shape: (122400, 10)\n"
     ]
    }
   ],
   "source": [
    "data = deepcopy(train_origin)\n",
    "\n",
    "data.columns = [\n",
    "    'num', 'date_time', 'target', 'temp', 'wind',\n",
    "    'humid', 'rain', 'sun', 'non_elec_eq', 'sunlight_eq'\n",
    "]\n",
    "\n",
    "data['num'] -= 1\n",
    "\n",
    "print(f'data.shape: {data.shape}')"
   ]
  },
  {
   "cell_type": "code",
   "execution_count": 5,
   "id": "5328ca29",
   "metadata": {},
   "outputs": [],
   "source": [
    "def mk_time_data(data):\n",
    "    \n",
    "    new_data = data.copy()\n",
    "\n",
    "    new_data['date_time'] = data['date_time'].apply(lambda x: datetime.datetime.strptime(x, '%Y-%m-%d %H'))\n",
    "    \n",
    "    new_data['time_stamp'] = new_data['date_time'].apply(lambda x: x.timestamp())\n",
    "    \n",
    "    new_data['year'] = new_data['date_time'].apply(lambda x: x.year)\n",
    "    new_data['month'] = new_data['date_time'].apply(lambda x: x.month)\n",
    "    new_data['day'] = new_data['date_time'].apply(lambda x: x.day)\n",
    "    \n",
    "    new_data['hour'] = new_data['date_time'].apply(lambda x: x.hour)\n",
    "    new_data['cos_hour'] = np.cos(2*np.pi*(new_data['hour']/24))\n",
    "    new_data['sin_hour'] = np.sin(2*np.pi*(new_data['hour']/24))\n",
    "\n",
    "    new_data['weekday'] = new_data['date_time'].apply(lambda x: x.weekday())\n",
    "    new_data['cos_weekday'] = np.cos(2*np.pi*(new_data['weekday']/7))\n",
    "    new_data['sin_weekday'] = np.sin(2*np.pi*(new_data['weekday']/7))\n",
    "    \n",
    "    new_data['is_holiday'] = 0\n",
    "    new_data.loc[(new_data['weekday'] == 5) | (new_data['weekday'] == 6), 'is_holiday'] = 1\n",
    "    new_data.loc[(new_data['month'] == 8) & (new_data['day'] == 17), 'is_holiday'] = 1\n",
    "    \n",
    "    return new_data"
   ]
  },
  {
   "cell_type": "code",
   "execution_count": 6,
   "id": "bbc5ca79",
   "metadata": {},
   "outputs": [],
   "source": [
    "new_data = mk_time_data(data)"
   ]
  },
  {
   "cell_type": "code",
   "execution_count": 7,
   "id": "e8496f3e",
   "metadata": {},
   "outputs": [],
   "source": [
    "def mk_mean_std_dict(data, scaling_cols):\n",
    "    mean_std_dict = {}\n",
    "    for num in range(60):\n",
    "        building = data.query(f'num == {num}')\n",
    "        mean_std_dict[num] = {\n",
    "            col: {\n",
    "                'mean': building[col].mean(),\n",
    "                'std': building[col].std()\n",
    "            } for col in scaling_cols\n",
    "        }\n",
    "    return mean_std_dict"
   ]
  },
  {
   "cell_type": "code",
   "execution_count": 8,
   "id": "02e56901",
   "metadata": {},
   "outputs": [],
   "source": [
    "scaling_cols = [\n",
    "    'temp', 'wind', 'humid', 'rain', 'sun', 'time_stamp', 'target'\n",
    "]\n",
    "\n",
    "mean_std_dict = mk_mean_std_dict(\n",
    "    new_data[new_data['date_time'] < CONFIGS['valid_start_date_time']],\n",
    "    scaling_cols\n",
    ")\n",
    "CONFIGS['mean_std_dict'] = mean_std_dict"
   ]
  },
  {
   "cell_type": "code",
   "execution_count": 9,
   "id": "3d063e2a",
   "metadata": {},
   "outputs": [],
   "source": [
    "def standard_scaling(data, scaling_cols, mean_std_dict=None):\n",
    "    if not mean_std_dict:\n",
    "        mean_std_dict = mk_mean_std_dict(data, scaling_cols)\n",
    "        \n",
    "    new_data = data.copy()\n",
    "    for num in range(60):\n",
    "        for col in scaling_cols:\n",
    "            new_data.loc[new_data['num']==num, col] -= mean_std_dict[num][col]['mean']\n",
    "            new_data.loc[new_data['num']==num, col] /= mean_std_dict[num][col]['std']\n",
    "    return new_data"
   ]
  },
  {
   "cell_type": "code",
   "execution_count": 10,
   "id": "1d40bfbb",
   "metadata": {},
   "outputs": [],
   "source": [
    "new_data = standard_scaling(new_data, scaling_cols, mean_std_dict)"
   ]
  },
  {
   "cell_type": "code",
   "execution_count": 23,
   "id": "5884e6bb",
   "metadata": {},
   "outputs": [],
   "source": [
    "time_series_cols = [\n",
    "    'temp', 'wind', 'humid', 'rain', 'sun', 'time_stamp',\n",
    "    'cos_hour', 'sin_hour', 'cos_weekday', 'sin_weekday',\n",
    "    'is_holiday', 'target',\n",
    "]\n",
    "building_num_cols = ['num']\n",
    "target_time_info_cols = [\n",
    "    'temp', 'wind', 'humid', 'rain', 'sun', 'time_stamp',\n",
    "    'cos_hour', 'sin_hour', 'cos_weekday', 'sin_weekday',\n",
    "    'is_holiday',\n",
    "]\n",
    "target_cols = ['target']\n",
    "\n",
    "CONFIGS['time_series_cols'] = time_series_cols\n",
    "CONFIGS['building_num_cols'] = building_num_cols\n",
    "CONFIGS['target_time_info_cols'] = target_time_info_cols\n",
    "CONFIGS['target_cols'] = target_cols\n",
    "\n",
    "input_cols = list(set(time_series_cols+building_num_cols+target_time_info_cols+target_cols))"
   ]
  },
  {
   "cell_type": "code",
   "execution_count": null,
   "id": "1f6d87d1",
   "metadata": {},
   "outputs": [],
   "source": []
  },
  {
   "cell_type": "code",
   "execution_count": null,
   "id": "a53435db",
   "metadata": {},
   "outputs": [],
   "source": []
  },
  {
   "cell_type": "code",
   "execution_count": 17,
   "id": "228d7e15",
   "metadata": {},
   "outputs": [],
   "source": [
    "data = new_data.copy()"
   ]
  },
  {
   "cell_type": "code",
   "execution_count": 24,
   "id": "fa6cd11e",
   "metadata": {},
   "outputs": [],
   "source": [
    "data = data[input_cols]\n",
    "\n",
    "building_length = data.query('num == 0').shape[0]\n",
    "ds = Dataset.from_tensor_slices(data).batch(building_length)"
   ]
  },
  {
   "cell_type": "code",
   "execution_count": 25,
   "id": "983f32e9",
   "metadata": {},
   "outputs": [
    {
     "data": {
      "text/plain": [
       "<tf.Tensor: shape=(2040, 13), dtype=float64, numpy=\n",
       "array([[-0.54498631, -1.73052664,  0.11081364, ...,  0.        ,\n",
       "         0.        , -2.02148701],\n",
       "       [-0.54498631, -1.72849431,  0.46409045, ...,  0.25881905,\n",
       "         0.        , -1.99078964],\n",
       "       [-0.54498631, -1.72646198,  0.72904805, ...,  0.5       ,\n",
       "         0.        , -2.05218439],\n",
       "       ...,\n",
       "       [-0.54498631,  2.40932393, -1.12565516, ..., -0.70710678,\n",
       "         0.        ,  1.26313214],\n",
       "       [-0.54498631,  2.41135626,  0.02249444, ..., -0.5       ,\n",
       "         0.        ,  1.26313214],\n",
       "       [-0.54498631,  2.41338859, -0.06582476, ..., -0.25881905,\n",
       "         0.        ,  1.20173739]])>"
      ]
     },
     "execution_count": 25,
     "metadata": {},
     "output_type": "execute_result"
    }
   ],
   "source": [
    "iter(ds).next()"
   ]
  },
  {
   "cell_type": "code",
   "execution_count": null,
   "id": "f1d99997",
   "metadata": {},
   "outputs": [],
   "source": []
  },
  {
   "cell_type": "code",
   "execution_count": null,
   "id": "675c3091",
   "metadata": {},
   "outputs": [],
   "source": []
  },
  {
   "cell_type": "code",
   "execution_count": null,
   "id": "366c6b39",
   "metadata": {},
   "outputs": [],
   "source": []
  },
  {
   "cell_type": "code",
   "execution_count": null,
   "id": "90f5d90e",
   "metadata": {},
   "outputs": [],
   "source": []
  },
  {
   "cell_type": "code",
   "execution_count": null,
   "id": "b7356250",
   "metadata": {},
   "outputs": [],
   "source": []
  },
  {
   "cell_type": "code",
   "execution_count": null,
   "id": "c50421a8",
   "metadata": {},
   "outputs": [],
   "source": []
  },
  {
   "cell_type": "code",
   "execution_count": null,
   "id": "45691946",
   "metadata": {},
   "outputs": [],
   "source": []
  },
  {
   "cell_type": "code",
   "execution_count": null,
   "id": "ef7fe5cc",
   "metadata": {},
   "outputs": [],
   "source": []
  },
  {
   "cell_type": "code",
   "execution_count": null,
   "id": "a757a579",
   "metadata": {},
   "outputs": [],
   "source": []
  },
  {
   "cell_type": "code",
   "execution_count": 30,
   "id": "9e449b58",
   "metadata": {},
   "outputs": [
    {
     "data": {
      "text/plain": [
       "datetime.datetime(2020, 8, 4, 0, 0)"
      ]
     },
     "execution_count": 30,
     "metadata": {},
     "output_type": "execute_result"
    }
   ],
   "source": [
    "CONFIGS['valid_start_date_time']-datetime.timedelta(hours=CONFIGS['window_size'])"
   ]
  },
  {
   "cell_type": "code",
   "execution_count": null,
   "id": "cb8c3d1a",
   "metadata": {},
   "outputs": [],
   "source": []
  }
 ],
 "metadata": {
  "kernelspec": {
   "display_name": "Python 3",
   "language": "python",
   "name": "python3"
  },
  "language_info": {
   "codemirror_mode": {
    "name": "ipython",
    "version": 3
   },
   "file_extension": ".py",
   "mimetype": "text/x-python",
   "name": "python",
   "nbconvert_exporter": "python",
   "pygments_lexer": "ipython3",
   "version": "3.6.9"
  }
 },
 "nbformat": 4,
 "nbformat_minor": 5
}
