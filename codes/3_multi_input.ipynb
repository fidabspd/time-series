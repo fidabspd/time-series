{
 "cells": [
  {
   "cell_type": "code",
   "execution_count": 1,
   "id": "ba5aca2d",
   "metadata": {},
   "outputs": [],
   "source": [
    "from copy import deepcopy\n",
    "\n",
    "import numpy as np\n",
    "import pandas as pd\n",
    "\n",
    "import datetime\n",
    "\n",
    "import tensorflow as tf\n",
    "from tensorflow.data import Dataset\n",
    "from tensorflow.keras.layers import *\n",
    "from tensorflow.keras.models import Model\n",
    "from tensorflow.keras.optimizers import Adam\n",
    "from tensorflow.keras.callbacks import EarlyStopping, ModelCheckpoint\n",
    "from tensorflow.keras.losses import MeanSquaredError"
   ]
  },
  {
   "cell_type": "code",
   "execution_count": 2,
   "id": "4ac38dca",
   "metadata": {},
   "outputs": [],
   "source": [
    "CONFIGS = {\n",
    "    'data_path': '../data/',\n",
    "    'model_path': '../model/',\n",
    "    'model_name': 'multi_input',\n",
    "    'model_type': 'cnn1d',\n",
    "    \n",
    "    'valid_start_index': 1704,\n",
    "    'test_start_index': 1872,\n",
    "    \n",
    "    'batch_size': 64,\n",
    "    'learning_rate': 1e-4,\n",
    "    'epochs': 100,\n",
    "    'es_patience': 10,\n",
    "    \n",
    "    'window_size': 7*24,\n",
    "    'target_length': 3,\n",
    "}"
   ]
  },
  {
   "cell_type": "code",
   "execution_count": 3,
   "id": "2ffa3953",
   "metadata": {},
   "outputs": [],
   "source": [
    "train_origin = pd.read_csv(CONFIGS['data_path']+'train.csv', encoding='cp949')"
   ]
  },
  {
   "cell_type": "code",
   "execution_count": 4,
   "id": "d178e934",
   "metadata": {},
   "outputs": [
    {
     "name": "stdout",
     "output_type": "stream",
     "text": [
      "data.shape: (2040, 10)\n"
     ]
    }
   ],
   "source": [
    "data = deepcopy(train_origin)\n",
    "\n",
    "data.columns = [\n",
    "    'num', 'date_time', 'target', 'temp', 'wind',\n",
    "    'humid', 'rain', 'sun', 'non_elec_eq', 'sunlight_eq'\n",
    "]\n",
    "\n",
    "data = data.loc[data['num'] == 1, :]\n",
    "\n",
    "print(f'data.shape: {data.shape}')"
   ]
  },
  {
   "cell_type": "code",
   "execution_count": 5,
   "id": "821c736c",
   "metadata": {},
   "outputs": [],
   "source": [
    "def mk_time_data(data):\n",
    "    \n",
    "    new_data = data.copy()\n",
    "\n",
    "    new_data['date_time'] = data['date_time'].apply(lambda x: datetime.datetime.strptime(x, '%Y-%m-%d %H'))\n",
    "    \n",
    "    new_data['time_stamp'] = new_data['date_time'].apply(lambda x: x.timestamp())\n",
    "    \n",
    "    new_data['year'] = new_data['date_time'].apply(lambda x: x.year)\n",
    "    new_data['month'] = new_data['date_time'].apply(lambda x: x.month)\n",
    "    new_data['day'] = new_data['date_time'].apply(lambda x: x.day)\n",
    "    \n",
    "    new_data['hour'] = new_data['date_time'].apply(lambda x: x.hour)\n",
    "    new_data['cos_hour'] = np.cos(2*np.pi*(new_data['hour']/24))\n",
    "    new_data['sin_hour'] = np.sin(2*np.pi*(new_data['hour']/24))\n",
    "\n",
    "    new_data['weekday'] = new_data['date_time'].apply(lambda x: x.weekday())\n",
    "    new_data['cos_weekday'] = np.cos(2*np.pi*(new_data['weekday']/7))\n",
    "    new_data['sin_weekday'] = np.sin(2*np.pi*(new_data['weekday']/7))\n",
    "    \n",
    "    new_data['is_holiday'] = 0\n",
    "    new_data.loc[(new_data['weekday'] == 5) | (new_data['weekday'] == 6), 'is_holiday'] = 1\n",
    "    new_data.loc[(new_data['month'] == 8) & (new_data['day'] == 17), 'is_holiday'] = 1\n",
    "    \n",
    "    return new_data"
   ]
  },
  {
   "cell_type": "code",
   "execution_count": 6,
   "id": "cc8888c1",
   "metadata": {},
   "outputs": [],
   "source": [
    "new_data = mk_time_data(data)"
   ]
  },
  {
   "cell_type": "code",
   "execution_count": 7,
   "id": "db7e6884",
   "metadata": {},
   "outputs": [],
   "source": [
    "def mk_mean_std_dict(data):\n",
    "    mean_std_dict = {\n",
    "        col: {\n",
    "            'mean': data[col].mean(),\n",
    "            'std': data[col].std()\n",
    "        } for col in data.columns\n",
    "    }\n",
    "    return mean_std_dict"
   ]
  },
  {
   "cell_type": "code",
   "execution_count": 8,
   "id": "ee960182",
   "metadata": {},
   "outputs": [],
   "source": [
    "scaling_cols = [\n",
    "    'temp', 'wind', 'humid', 'rain', 'sun', 'time_stamp', 'target'\n",
    "]\n",
    "\n",
    "mean_std_dict = mk_mean_std_dict(new_data[scaling_cols][:CONFIGS['valid_start_index']])\n",
    "CONFIGS['mean_std_dict'] = mean_std_dict"
   ]
  },
  {
   "cell_type": "code",
   "execution_count": 9,
   "id": "ab05a587",
   "metadata": {},
   "outputs": [],
   "source": [
    "def standard_scaling(data, mean_std_dict=None):\n",
    "    if not mean_std_dict:\n",
    "        mean_std_dict = mk_mean_std_dict(data)\n",
    "    new_data = data.copy()\n",
    "    for col in new_data.columns:\n",
    "        new_data[col] -= mean_std_dict[col]['mean']\n",
    "        new_data[col] /= mean_std_dict[col]['std']\n",
    "    return new_data"
   ]
  },
  {
   "cell_type": "code",
   "execution_count": 10,
   "id": "9c42026d",
   "metadata": {
    "scrolled": false
   },
   "outputs": [],
   "source": [
    "new_data[scaling_cols] = standard_scaling(new_data[scaling_cols])"
   ]
  },
  {
   "cell_type": "code",
   "execution_count": 11,
   "id": "72b5289a",
   "metadata": {},
   "outputs": [],
   "source": [
    "time_series_cols = [\n",
    "    'temp', 'wind', 'humid', 'rain', 'sun', 'time_stamp',\n",
    "    'cos_hour', 'sin_hour', 'cos_weekday', 'sin_weekday',\n",
    "    'is_holiday', 'target',\n",
    "]\n",
    "target_date_info_cols = [\n",
    "    'temp', 'wind', 'humid', 'rain', 'sun', 'time_stamp',\n",
    "    'cos_hour', 'sin_hour', 'cos_weekday', 'sin_weekday',\n",
    "    'is_holiday',\n",
    "]\n",
    "target_cols = ['target']\n",
    "\n",
    "CONFIGS['time_series_cols'] = time_series_cols\n",
    "CONFIGS['target_date_info_cols'] = target_date_info_cols\n",
    "CONFIGS['target_cols'] = target_cols"
   ]
  },
  {
   "cell_type": "code",
   "execution_count": 12,
   "id": "e239b5a3",
   "metadata": {},
   "outputs": [],
   "source": [
    "def mk_dataset(data, CONFIGS, shuffle=False):\n",
    "    \n",
    "    time_series = data[CONFIGS['time_series_cols']][:-CONFIGS['target_length']]\n",
    "    target_date_info = data[CONFIGS['target_date_info_cols']][CONFIGS['window_size']+1:-(CONFIGS['target_length']-2)]\n",
    "    target = data[CONFIGS['target_cols']][CONFIGS['window_size']:]\n",
    "    \n",
    "    time_series_ds = Dataset.from_tensor_slices(time_series)\n",
    "    time_series_ds = time_series_ds.window(CONFIGS['window_size'], shift=1, drop_remainder=True)\n",
    "    time_series_ds = time_series_ds.flat_map(lambda x: x).batch(CONFIGS['window_size'])\n",
    "    \n",
    "    target_date_info_ds = Dataset.from_tensor_slices(target_date_info)\n",
    "    \n",
    "    target_ds = Dataset.from_tensor_slices(target)\n",
    "    target_ds = target_ds.window(CONFIGS['target_length'], shift=1, drop_remainder=True)\n",
    "    target_ds = target_ds.flat_map(lambda x: x).batch(CONFIGS['target_length'])\n",
    "    \n",
    "    ds = Dataset.zip(((time_series_ds, target_date_info_ds), target_ds))\n",
    "    if shuffle:\n",
    "        ds = ds.shuffle(512)\n",
    "    ds = ds.batch(CONFIGS['batch_size']).cache().prefetch(2)\n",
    "    \n",
    "    return ds"
   ]
  },
  {
   "cell_type": "code",
   "execution_count": 13,
   "id": "53c18573",
   "metadata": {},
   "outputs": [],
   "source": [
    "train = new_data.loc[:CONFIGS['valid_start_index'], :]\n",
    "valid = new_data.loc[CONFIGS['valid_start_index']-CONFIGS['window_size']:CONFIGS['test_start_index'], :]\n",
    "test = new_data.loc[CONFIGS['test_start_index']-CONFIGS['window_size']:, :]\n",
    "\n",
    "train_ds = mk_dataset(train, CONFIGS, shuffle=True)\n",
    "valid_ds = mk_dataset(valid, CONFIGS)\n",
    "test_ds = mk_dataset(test, CONFIGS)"
   ]
  },
  {
   "cell_type": "code",
   "execution_count": 14,
   "id": "13d3c4d2",
   "metadata": {},
   "outputs": [],
   "source": [
    "def inversed_rmse(y_true, y_pred, mean, std):\n",
    "    y_true = (y_true+mean)*std\n",
    "    y_pred = (y_pred+mean)*std\n",
    "    mse = tf.reduce_mean((y_true-y_pred)**2)\n",
    "    return tf.sqrt(mse)\n",
    "\n",
    "inversed_rmse_metric = lambda y_true, y_pred: inversed_rmse(y_true, y_pred, **CONFIGS['mean_std_dict']['target'])"
   ]
  },
  {
   "cell_type": "code",
   "execution_count": 15,
   "id": "061bdf14",
   "metadata": {},
   "outputs": [],
   "source": [
    "def set_model(CONFIGS, model_name=None, print_summary=False):\n",
    "    \n",
    "    time_series_inputs = Input(batch_shape=(\n",
    "        None, CONFIGS['window_size'], len(CONFIGS['time_series_cols'])\n",
    "    ), name='time_series_inputs')\n",
    "    \n",
    "    if CONFIGS['model_type'] == 'flatten':\n",
    "        flatten = Flatten(name='flatten')(time_series_inputs)\n",
    "    elif CONFIGS['model_type'] == 'cnn1d':\n",
    "        conv_0 = Conv1D(16, 3, 2, activation='relu', name='conv_0')(time_series_inputs)\n",
    "        pool_0 = MaxPool1D(2, name='pool_0')(conv_0)\n",
    "        conv_1 = Conv1D(32, 3, 2, activation='relu', name='conv_1')(pool_0)\n",
    "        pool_1 = MaxPool1D(2, name='pool_1')(conv_1)\n",
    "        flatten = Flatten(name='flatten')(pool_1)\n",
    "    elif CONFIGS['model_type'] == 'cnn2d':\n",
    "        reshape = Reshape(target_shape=(\n",
    "            CONFIGS['window_size'], len(CONFIGS['time_series_cols']), 1\n",
    "        ), name='reshape')(time_series_inputs)\n",
    "        conv_0 = Conv2D(8, (3, 1), strides=(2, 1), activation='relu', name='conv_0')(reshape)\n",
    "        pool_0 = MaxPool2D((2, 1), name='pool_0')(conv_0)\n",
    "        conv_1 = Conv2D(16, (3, 1), strides=(2, 1), activation='relu', name='conv_1')(pool_0)\n",
    "        pool_1 = MaxPool2D((2, 1), name='pool_1')(conv_1)\n",
    "        flatten = Flatten(name='flatten')(pool_1)\n",
    "    elif CONFIGS['model_type'] == 'lstm':\n",
    "        lstm_0 = LSTM(16, return_sequences=True, activation='relu', name='lstm_0')(time_series_inputs)\n",
    "        lstm_1 = LSTM(32, activation='relu', name='lstm_1')(lstm_0)\n",
    "        flatten = Flatten(name='flatten')(lstm_1)\n",
    "    elif CONFIGS['model_type'] == 'bilstm':\n",
    "        bilstm_0 = Bidirectional(LSTM(\n",
    "            16, return_sequences=True, activation='relu'\n",
    "        ), name='bilstm_0')(time_series_inputs)\n",
    "        bilstm_1 = Bidirectional(LSTM(\n",
    "            32, activation='relu'\n",
    "        ), name='bilstm_1')(bilstm_0)\n",
    "        flatten = Flatten(name='flatten')(bilstm_1)\n",
    "        \n",
    "    target_date_info_inputs = Input(batch_shape=(\n",
    "        None, len(CONFIGS['target_date_info_cols'])\n",
    "    ), name='target_date_info_inputs')\n",
    "    \n",
    "    concat = Concatenate(name='concat')([flatten, target_date_info_inputs])\n",
    "        \n",
    "    dense_0 = Dense(64, activation='relu', name='dense_0')(concat)\n",
    "    dense_1 = Dense(32, activation='relu', name='dense_1')(dense_0)\n",
    "    outputs = Dense(CONFIGS['target_length'], name='outputs')(dense_1)\n",
    "    \n",
    "    if not model_name:\n",
    "        model_name = CONFIGS['model_name']\n",
    "    \n",
    "    model = Model(\n",
    "        inputs = [time_series_inputs, target_date_info_inputs],\n",
    "        outputs = outputs,\n",
    "        name = model_name\n",
    "    )\n",
    "    \n",
    "    optimizer = Adam(learning_rate=CONFIGS['learning_rate'])\n",
    "    model.compile(\n",
    "        loss = MeanSquaredError(),\n",
    "        optimizer = optimizer,\n",
    "        metrics=[inversed_rmse_metric],\n",
    "    )\n",
    "    \n",
    "    if print_summary:\n",
    "        model.summary()\n",
    "    \n",
    "    return model"
   ]
  },
  {
   "cell_type": "code",
   "execution_count": 16,
   "id": "5f7f330d",
   "metadata": {},
   "outputs": [
    {
     "name": "stdout",
     "output_type": "stream",
     "text": [
      "Model: \"multi_input\"\n",
      "__________________________________________________________________________________________________\n",
      "Layer (type)                    Output Shape         Param #     Connected to                     \n",
      "==================================================================================================\n",
      "time_series_inputs (InputLayer) [(None, 168, 12)]    0                                            \n",
      "__________________________________________________________________________________________________\n",
      "conv_0 (Conv1D)                 (None, 83, 16)       592         time_series_inputs[0][0]         \n",
      "__________________________________________________________________________________________________\n",
      "pool_0 (MaxPooling1D)           (None, 41, 16)       0           conv_0[0][0]                     \n",
      "__________________________________________________________________________________________________\n",
      "conv_1 (Conv1D)                 (None, 20, 32)       1568        pool_0[0][0]                     \n",
      "__________________________________________________________________________________________________\n",
      "pool_1 (MaxPooling1D)           (None, 10, 32)       0           conv_1[0][0]                     \n",
      "__________________________________________________________________________________________________\n",
      "flatten (Flatten)               (None, 320)          0           pool_1[0][0]                     \n",
      "__________________________________________________________________________________________________\n",
      "target_date_info_inputs (InputL [(None, 11)]         0                                            \n",
      "__________________________________________________________________________________________________\n",
      "concat (Concatenate)            (None, 331)          0           flatten[0][0]                    \n",
      "                                                                 target_date_info_inputs[0][0]    \n",
      "__________________________________________________________________________________________________\n",
      "dense_0 (Dense)                 (None, 64)           21248       concat[0][0]                     \n",
      "__________________________________________________________________________________________________\n",
      "dense_1 (Dense)                 (None, 32)           2080        dense_0[0][0]                    \n",
      "__________________________________________________________________________________________________\n",
      "outputs (Dense)                 (None, 3)            99          dense_1[0][0]                    \n",
      "==================================================================================================\n",
      "Total params: 25,587\n",
      "Trainable params: 25,587\n",
      "Non-trainable params: 0\n",
      "__________________________________________________________________________________________________\n"
     ]
    }
   ],
   "source": [
    "model = set_model(CONFIGS, print_summary=True)"
   ]
  },
  {
   "cell_type": "code",
   "execution_count": 17,
   "id": "a89ab345",
   "metadata": {},
   "outputs": [],
   "source": [
    "def train_model(model, train_ds, valid_ds, CONFIGS):\n",
    "    \n",
    "    early_stop = EarlyStopping(\n",
    "        patience=CONFIGS['es_patience']\n",
    "    )\n",
    "    save_best_only = ModelCheckpoint(\n",
    "        filepath = f'{CONFIGS[\"model_path\"]}{CONFIGS[\"model_name\"]}.h5',\n",
    "        monitor = 'val_loss',\n",
    "        save_best_only = True,\n",
    "        save_weights_only = True\n",
    "    )\n",
    "    \n",
    "    history = model.fit(\n",
    "        train_ds,\n",
    "        batch_size = CONFIGS['batch_size'],\n",
    "        epochs = CONFIGS['epochs'],\n",
    "        validation_data = valid_ds,\n",
    "        callbacks = [\n",
    "            early_stop,\n",
    "            save_best_only,\n",
    "        ]\n",
    "    )\n",
    "    \n",
    "    return history"
   ]
  },
  {
   "cell_type": "code",
   "execution_count": 18,
   "id": "456b660b",
   "metadata": {
    "scrolled": true
   },
   "outputs": [
    {
     "name": "stdout",
     "output_type": "stream",
     "text": [
      "Epoch 1/100\n",
      "24/24 [==============================] - 2s 11ms/step - loss: 0.4282 - <lambda>: 81.6231 - val_loss: 1.4411 - val_<lambda>: 150.3956\n",
      "Epoch 2/100\n",
      "24/24 [==============================] - 0s 3ms/step - loss: 0.3616 - <lambda>: 74.6825 - val_loss: 1.2644 - val_<lambda>: 140.4767\n",
      "Epoch 3/100\n",
      "24/24 [==============================] - 0s 3ms/step - loss: 0.3231 - <lambda>: 70.4842 - val_loss: 1.1809 - val_<lambda>: 135.3461\n",
      "Epoch 4/100\n",
      "24/24 [==============================] - 0s 3ms/step - loss: 0.2874 - <lambda>: 66.4756 - val_loss: 1.0873 - val_<lambda>: 129.3643\n",
      "Epoch 5/100\n",
      "24/24 [==============================] - 0s 3ms/step - loss: 0.2564 - <lambda>: 62.8235 - val_loss: 0.9897 - val_<lambda>: 122.8575\n",
      "Epoch 6/100\n",
      "24/24 [==============================] - 0s 3ms/step - loss: 0.2302 - <lambda>: 59.5877 - val_loss: 0.8975 - val_<lambda>: 116.4187\n",
      "Epoch 7/100\n",
      "24/24 [==============================] - 0s 3ms/step - loss: 0.2077 - <lambda>: 56.6472 - val_loss: 0.8109 - val_<lambda>: 110.0978\n",
      "Epoch 8/100\n",
      "24/24 [==============================] - 0s 3ms/step - loss: 0.1885 - <lambda>: 54.0155 - val_loss: 0.7358 - val_<lambda>: 104.3611\n",
      "Epoch 9/100\n",
      "24/24 [==============================] - 0s 3ms/step - loss: 0.1725 - <lambda>: 51.6937 - val_loss: 0.6700 - val_<lambda>: 99.1573\n",
      "Epoch 10/100\n",
      "24/24 [==============================] - 0s 3ms/step - loss: 0.1588 - <lambda>: 49.6236 - val_loss: 0.6152 - val_<lambda>: 94.6575\n",
      "Epoch 11/100\n",
      "24/24 [==============================] - 0s 4ms/step - loss: 0.1472 - <lambda>: 47.7752 - val_loss: 0.5727 - val_<lambda>: 91.0384\n",
      "Epoch 12/100\n",
      "24/24 [==============================] - 0s 4ms/step - loss: 0.1372 - <lambda>: 46.1206 - val_loss: 0.5381 - val_<lambda>: 87.9660\n",
      "Epoch 13/100\n",
      "24/24 [==============================] - 0s 3ms/step - loss: 0.1284 - <lambda>: 44.6180 - val_loss: 0.5106 - val_<lambda>: 85.4603\n",
      "Epoch 14/100\n",
      "24/24 [==============================] - 0s 4ms/step - loss: 0.1207 - <lambda>: 43.2366 - val_loss: 0.4902 - val_<lambda>: 83.5379\n",
      "Epoch 15/100\n",
      "24/24 [==============================] - 0s 4ms/step - loss: 0.1138 - <lambda>: 41.9528 - val_loss: 0.4741 - val_<lambda>: 82.0009\n",
      "Epoch 16/100\n",
      "24/24 [==============================] - 0s 3ms/step - loss: 0.1076 - <lambda>: 40.7762 - val_loss: 0.4625 - val_<lambda>: 80.8924\n",
      "Epoch 17/100\n",
      "24/24 [==============================] - 0s 4ms/step - loss: 0.1021 - <lambda>: 39.6907 - val_loss: 0.4537 - val_<lambda>: 80.0432\n",
      "Epoch 18/100\n",
      "24/24 [==============================] - 0s 3ms/step - loss: 0.0970 - <lambda>: 38.6623 - val_loss: 0.4459 - val_<lambda>: 79.3188\n",
      "Epoch 19/100\n",
      "24/24 [==============================] - 0s 3ms/step - loss: 0.0923 - <lambda>: 37.6922 - val_loss: 0.4398 - val_<lambda>: 78.7950\n",
      "Epoch 20/100\n",
      "24/24 [==============================] - 0s 3ms/step - loss: 0.0881 - <lambda>: 36.7985 - val_loss: 0.4355 - val_<lambda>: 78.4027\n",
      "Epoch 21/100\n",
      "24/24 [==============================] - 0s 3ms/step - loss: 0.0843 - <lambda>: 35.9647 - val_loss: 0.4317 - val_<lambda>: 78.0867\n",
      "Epoch 22/100\n",
      "24/24 [==============================] - 0s 3ms/step - loss: 0.0808 - <lambda>: 35.1628 - val_loss: 0.4281 - val_<lambda>: 77.8313\n",
      "Epoch 23/100\n",
      "24/24 [==============================] - 0s 3ms/step - loss: 0.0775 - <lambda>: 34.4115 - val_loss: 0.4265 - val_<lambda>: 77.7682\n",
      "Epoch 24/100\n",
      "24/24 [==============================] - 0s 3ms/step - loss: 0.0745 - <lambda>: 33.7005 - val_loss: 0.4242 - val_<lambda>: 77.6570\n",
      "Epoch 25/100\n",
      "24/24 [==============================] - 0s 3ms/step - loss: 0.0718 - <lambda>: 33.0436 - val_loss: 0.4222 - val_<lambda>: 77.5552\n",
      "Epoch 26/100\n",
      "24/24 [==============================] - 0s 4ms/step - loss: 0.0693 - <lambda>: 32.4369 - val_loss: 0.4201 - val_<lambda>: 77.4406\n",
      "Epoch 27/100\n",
      "24/24 [==============================] - 0s 4ms/step - loss: 0.0670 - <lambda>: 31.8676 - val_loss: 0.4187 - val_<lambda>: 77.3834\n",
      "Epoch 28/100\n",
      "24/24 [==============================] - 0s 4ms/step - loss: 0.0649 - <lambda>: 31.3364 - val_loss: 0.4162 - val_<lambda>: 77.2688\n",
      "Epoch 29/100\n",
      "24/24 [==============================] - 0s 4ms/step - loss: 0.0630 - <lambda>: 30.8440 - val_loss: 0.4147 - val_<lambda>: 77.2114\n",
      "Epoch 30/100\n",
      "24/24 [==============================] - 0s 3ms/step - loss: 0.0613 - <lambda>: 30.3822 - val_loss: 0.4133 - val_<lambda>: 77.1609\n",
      "Epoch 31/100\n",
      "24/24 [==============================] - 0s 3ms/step - loss: 0.0597 - <lambda>: 29.9545 - val_loss: 0.4119 - val_<lambda>: 77.1427\n",
      "Epoch 32/100\n",
      "24/24 [==============================] - 0s 3ms/step - loss: 0.0582 - <lambda>: 29.5570 - val_loss: 0.4105 - val_<lambda>: 77.0876\n",
      "Epoch 33/100\n",
      "24/24 [==============================] - 0s 3ms/step - loss: 0.0568 - <lambda>: 29.1732 - val_loss: 0.4087 - val_<lambda>: 77.0034\n",
      "Epoch 34/100\n",
      "24/24 [==============================] - 0s 3ms/step - loss: 0.0555 - <lambda>: 28.8272 - val_loss: 0.4082 - val_<lambda>: 77.0490\n",
      "Epoch 35/100\n",
      "24/24 [==============================] - 0s 3ms/step - loss: 0.0544 - <lambda>: 28.4986 - val_loss: 0.4065 - val_<lambda>: 76.9769\n",
      "Epoch 36/100\n",
      "24/24 [==============================] - 0s 3ms/step - loss: 0.0532 - <lambda>: 28.1748 - val_loss: 0.4047 - val_<lambda>: 76.8877\n",
      "Epoch 37/100\n",
      "24/24 [==============================] - 0s 3ms/step - loss: 0.0522 - <lambda>: 27.8750 - val_loss: 0.4040 - val_<lambda>: 76.9149\n",
      "Epoch 38/100\n",
      "24/24 [==============================] - 0s 3ms/step - loss: 0.0512 - <lambda>: 27.6013 - val_loss: 0.4041 - val_<lambda>: 76.9945\n",
      "Epoch 39/100\n",
      "24/24 [==============================] - 0s 4ms/step - loss: 0.0503 - <lambda>: 27.3235 - val_loss: 0.4024 - val_<lambda>: 76.8996\n",
      "Epoch 40/100\n",
      "24/24 [==============================] - 0s 4ms/step - loss: 0.0494 - <lambda>: 27.0511 - val_loss: 0.4022 - val_<lambda>: 76.9487\n",
      "Epoch 41/100\n",
      "24/24 [==============================] - 0s 4ms/step - loss: 0.0485 - <lambda>: 26.7984 - val_loss: 0.4018 - val_<lambda>: 76.9639\n",
      "Epoch 42/100\n",
      "24/24 [==============================] - 0s 4ms/step - loss: 0.0477 - <lambda>: 26.5569 - val_loss: 0.4019 - val_<lambda>: 77.0450\n",
      "Epoch 43/100\n",
      "24/24 [==============================] - 0s 3ms/step - loss: 0.0470 - <lambda>: 26.3292 - val_loss: 0.4018 - val_<lambda>: 77.0754\n",
      "Epoch 44/100\n",
      "24/24 [==============================] - 0s 3ms/step - loss: 0.0462 - <lambda>: 26.0824 - val_loss: 0.4000 - val_<lambda>: 76.9768\n",
      "Epoch 45/100\n",
      "24/24 [==============================] - 0s 3ms/step - loss: 0.0455 - <lambda>: 25.8756 - val_loss: 0.4013 - val_<lambda>: 77.1426\n",
      "Epoch 46/100\n",
      "24/24 [==============================] - 0s 3ms/step - loss: 0.0448 - <lambda>: 25.6574 - val_loss: 0.4010 - val_<lambda>: 77.1803\n",
      "Epoch 47/100\n",
      "24/24 [==============================] - 0s 3ms/step - loss: 0.0442 - <lambda>: 25.4562 - val_loss: 0.4005 - val_<lambda>: 77.1886\n",
      "Epoch 48/100\n",
      "24/24 [==============================] - 0s 4ms/step - loss: 0.0436 - <lambda>: 25.2545 - val_loss: 0.4001 - val_<lambda>: 77.1955\n",
      "Epoch 49/100\n",
      "24/24 [==============================] - 0s 3ms/step - loss: 0.0430 - <lambda>: 25.0641 - val_loss: 0.3995 - val_<lambda>: 77.1847\n",
      "Epoch 50/100\n",
      "24/24 [==============================] - 0s 3ms/step - loss: 0.0424 - <lambda>: 24.8815 - val_loss: 0.3997 - val_<lambda>: 77.2306\n",
      "Epoch 51/100\n",
      "24/24 [==============================] - 0s 3ms/step - loss: 0.0419 - <lambda>: 24.7107 - val_loss: 0.4010 - val_<lambda>: 77.3882\n",
      "Epoch 52/100\n",
      "24/24 [==============================] - 0s 4ms/step - loss: 0.0414 - <lambda>: 24.5376 - val_loss: 0.4000 - val_<lambda>: 77.3404\n",
      "Epoch 53/100\n",
      "24/24 [==============================] - 0s 3ms/step - loss: 0.0409 - <lambda>: 24.3696 - val_loss: 0.4012 - val_<lambda>: 77.4687\n",
      "Epoch 54/100\n",
      "24/24 [==============================] - 0s 3ms/step - loss: 0.0404 - <lambda>: 24.1953 - val_loss: 0.4000 - val_<lambda>: 77.3926\n",
      "Epoch 55/100\n",
      "24/24 [==============================] - 0s 4ms/step - loss: 0.0399 - <lambda>: 24.0389 - val_loss: 0.4008 - val_<lambda>: 77.5055\n",
      "Epoch 56/100\n",
      "24/24 [==============================] - 0s 3ms/step - loss: 0.0395 - <lambda>: 23.8859 - val_loss: 0.4007 - val_<lambda>: 77.5291\n",
      "Epoch 57/100\n",
      "24/24 [==============================] - 0s 3ms/step - loss: 0.0390 - <lambda>: 23.7308 - val_loss: 0.4006 - val_<lambda>: 77.5447\n"
     ]
    },
    {
     "name": "stdout",
     "output_type": "stream",
     "text": [
      "Epoch 58/100\n",
      "24/24 [==============================] - 0s 3ms/step - loss: 0.0386 - <lambda>: 23.5811 - val_loss: 0.4009 - val_<lambda>: 77.6133\n",
      "Epoch 59/100\n",
      "24/24 [==============================] - 0s 3ms/step - loss: 0.0382 - <lambda>: 23.4432 - val_loss: 0.3999 - val_<lambda>: 77.5663\n"
     ]
    }
   ],
   "source": [
    "history = train_model(model, train_ds, valid_ds, CONFIGS)"
   ]
  },
  {
   "cell_type": "code",
   "execution_count": 19,
   "id": "e3affb87",
   "metadata": {},
   "outputs": [],
   "source": [
    "best_model = set_model(CONFIGS, model_name='best_'+CONFIGS['model_name'])\n",
    "best_model.load_weights(f'{CONFIGS[\"model_path\"]}{CONFIGS[\"model_name\"]}.h5')"
   ]
  },
  {
   "cell_type": "code",
   "execution_count": 20,
   "id": "d0d41640",
   "metadata": {},
   "outputs": [],
   "source": [
    "y_train_pred = best_model.predict(train_ds)\n",
    "y_valid_pred = best_model.predict(valid_ds)\n",
    "y_test_pred = best_model.predict(test_ds)"
   ]
  },
  {
   "cell_type": "code",
   "execution_count": 21,
   "id": "96ae1a3f",
   "metadata": {},
   "outputs": [
    {
     "name": "stdout",
     "output_type": "stream",
     "text": [
      "train_loss: 0.042584\ttrain_rmse: 24.965242\n",
      "valid_loss: 0.399541\tvalid_rmse: 77.184723\n",
      "test_loss: 0.308599\ttest_rmse: 70.677444\n"
     ]
    }
   ],
   "source": [
    "train_loss, train_rmse = best_model.evaluate(train_ds, verbose=0)\n",
    "valid_loss, valid_rmse = best_model.evaluate(valid_ds, verbose=0)\n",
    "test_loss, test_rmse = best_model.evaluate(test_ds, verbose=0)\n",
    "\n",
    "print(f'train_loss: {train_loss:.6f}\\ttrain_rmse: {train_rmse:.6f}')\n",
    "print(f'valid_loss: {valid_loss:.6f}\\tvalid_rmse: {valid_rmse:.6f}')\n",
    "print(f'test_loss: {test_loss:.6f}\\ttest_rmse: {test_rmse:.6f}')"
   ]
  },
  {
   "cell_type": "code",
   "execution_count": null,
   "id": "fa91d214",
   "metadata": {},
   "outputs": [],
   "source": []
  }
 ],
 "metadata": {
  "kernelspec": {
   "display_name": "Python 3",
   "language": "python",
   "name": "python3"
  },
  "language_info": {
   "codemirror_mode": {
    "name": "ipython",
    "version": 3
   },
   "file_extension": ".py",
   "mimetype": "text/x-python",
   "name": "python",
   "nbconvert_exporter": "python",
   "pygments_lexer": "ipython3",
   "version": "3.6.9"
  }
 },
 "nbformat": 4,
 "nbformat_minor": 5
}
