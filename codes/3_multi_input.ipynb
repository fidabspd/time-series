{
 "cells": [
  {
   "cell_type": "code",
   "execution_count": 1,
   "id": "ba5aca2d",
   "metadata": {},
   "outputs": [],
   "source": [
    "from copy import deepcopy\n",
    "\n",
    "import numpy as np\n",
    "import pandas as pd\n",
    "\n",
    "import datetime\n",
    "\n",
    "from tensorflow.data import Dataset\n",
    "from tensorflow.keras.layers import *\n",
    "from tensorflow.keras.models import Model\n",
    "from tensorflow.keras.optimizers import Adam\n",
    "from tensorflow.keras.callbacks import EarlyStopping, ModelCheckpoint\n",
    "from tensorflow.keras.losses import MeanSquaredError"
   ]
  },
  {
   "cell_type": "code",
   "execution_count": 2,
   "id": "4ac38dca",
   "metadata": {},
   "outputs": [],
   "source": [
    "CONFIGS = {\n",
    "    'data_path': '../data/',\n",
    "    'model_path': '../model/',\n",
    "    'model_name': 'multi_input',\n",
    "    'model_type': 'cnn',\n",
    "    \n",
    "    'test_lenght': 24,\n",
    "    'valid_start_index': 1992,\n",
    "    'test_start_index': 2016,\n",
    "    \n",
    "    'batch_size': 64,\n",
    "    'learning_rate': 1e-4,\n",
    "    'epochs': 100,\n",
    "    'es_patience': 10,\n",
    "    \n",
    "    'window_size': 7*24,\n",
    "    'target_length': 3,\n",
    "}"
   ]
  },
  {
   "cell_type": "code",
   "execution_count": 3,
   "id": "2ffa3953",
   "metadata": {},
   "outputs": [],
   "source": [
    "data_path = '../data/'\n",
    "\n",
    "train_origin = pd.read_csv(data_path+'train.csv', encoding='cp949')"
   ]
  },
  {
   "cell_type": "code",
   "execution_count": 4,
   "id": "d178e934",
   "metadata": {},
   "outputs": [
    {
     "name": "stdout",
     "output_type": "stream",
     "text": [
      "data.shape: (2040, 10)\n"
     ]
    }
   ],
   "source": [
    "data = deepcopy(train_origin)\n",
    "\n",
    "data.columns = [\n",
    "    'num', 'date_time', 'target', 'temp', 'wind',\n",
    "    'humid', 'rain', 'sun', 'non_elec_eq', 'sunlight_eq'\n",
    "]\n",
    "\n",
    "data = data.loc[data['num'] == 1, :]\n",
    "\n",
    "print(f'data.shape: {data.shape}')"
   ]
  },
  {
   "cell_type": "code",
   "execution_count": 5,
   "id": "821c736c",
   "metadata": {},
   "outputs": [],
   "source": [
    "def mk_time_data(data):\n",
    "    \n",
    "    new_data = data.copy()\n",
    "\n",
    "    new_data['date_time'] = data['date_time'].apply(lambda x: datetime.datetime.strptime(x, '%Y-%m-%d %H'))\n",
    "    \n",
    "    new_data['time_stamp'] = new_data['date_time'].apply(lambda x: x.timestamp())\n",
    "    \n",
    "    new_data['year'] = new_data['date_time'].apply(lambda x: x.year)\n",
    "    new_data['month'] = new_data['date_time'].apply(lambda x: x.month)\n",
    "    new_data['day'] = new_data['date_time'].apply(lambda x: x.day)\n",
    "    \n",
    "    new_data['hour'] = new_data['date_time'].apply(lambda x: x.hour)\n",
    "    new_data['cos_hour'] = np.cos(2*np.pi*(new_data['hour']/24))\n",
    "    new_data['sin_hour'] = np.sin(2*np.pi*(new_data['hour']/24))\n",
    "\n",
    "    new_data['weekday'] = new_data['date_time'].apply(lambda x: x.weekday())\n",
    "    new_data['cos_weekday'] = np.cos(2*np.pi*(new_data['weekday']/7))\n",
    "    new_data['sin_weekday'] = np.sin(2*np.pi*(new_data['weekday']/7))\n",
    "    \n",
    "    new_data['is_holiday'] = 0\n",
    "    new_data.loc[(new_data['weekday'] == 5) | (new_data['weekday'] == 6), 'is_holiday'] = 1\n",
    "    new_data.loc[(new_data['month'] == 8) & (new_data['day'] == 17), 'is_holiday'] = 1\n",
    "    \n",
    "    return new_data"
   ]
  },
  {
   "cell_type": "code",
   "execution_count": 6,
   "id": "27306c19",
   "metadata": {},
   "outputs": [],
   "source": [
    "new_data = mk_time_data(data)"
   ]
  },
  {
   "cell_type": "code",
   "execution_count": 7,
   "id": "72b5289a",
   "metadata": {},
   "outputs": [],
   "source": [
    "### target_date 정보도 쓰자\n",
    "\n",
    "input_cols = [\n",
    "    'temp', 'wind', 'humid', 'rain', 'sun', 'non_elec_eq',\n",
    "    'sunlight_eq', 'time_stamp', 'cos_hour', 'sin_hour',\n",
    "    'cos_weekday', 'sin_weekday', 'is_holiday', 'target',\n",
    "]\n",
    "target_cols = ['target']\n",
    "\n",
    "CONFIGS['input_cols'] = input_cols\n",
    "CONFIGS['target_cols'] = target_cols"
   ]
  },
  {
   "cell_type": "code",
   "execution_count": 8,
   "id": "e239b5a3",
   "metadata": {},
   "outputs": [],
   "source": [
    "def mk_dataset(data, CONFIGS, shuffle=False):\n",
    "    \n",
    "    X = data[CONFIGS['input_cols']][:-CONFIGS['target_length']]\n",
    "    y = data[CONFIGS['target_cols']][CONFIGS['window_size']:]\n",
    "    \n",
    "    X_ds = Dataset.from_tensor_slices(X)\n",
    "    X_ds = X_ds.window(CONFIGS['window_size'], shift=1, drop_remainder=True)\n",
    "    X_ds = X_ds.flat_map(lambda x: x).batch(CONFIGS['window_size'])\n",
    "    \n",
    "    y_ds = Dataset.from_tensor_slices(y)\n",
    "    y_ds = y_ds.window(CONFIGS['target_length'], shift=1, drop_remainder=True)\n",
    "    y_ds = y_ds.flat_map(lambda x: x).batch(CONFIGS['target_length'])\n",
    "    \n",
    "    ds = Dataset.zip((X_ds, y_ds))\n",
    "    if shuffle:\n",
    "        ds = ds.shuffle(512)\n",
    "    ds = ds.batch(CONFIGS['batch_size']).cache().prefetch(2)\n",
    "    \n",
    "    return ds"
   ]
  },
  {
   "cell_type": "code",
   "execution_count": 9,
   "id": "53c18573",
   "metadata": {},
   "outputs": [],
   "source": [
    "train = new_data.loc[:CONFIGS['valid_start_index'], :]\n",
    "valid = new_data.loc[CONFIGS['valid_start_index']-CONFIGS['window_size']:CONFIGS['test_start_index'], :]\n",
    "test = new_data.loc[CONFIGS['test_start_index']-CONFIGS['window_size']:, :]"
   ]
  },
  {
   "cell_type": "code",
   "execution_count": 10,
   "id": "832d0773",
   "metadata": {},
   "outputs": [],
   "source": [
    "train_ds = mk_dataset(train, CONFIGS, shuffle=True)\n",
    "valid_ds = mk_dataset(valid, CONFIGS)\n",
    "test_ds = mk_dataset(test, CONFIGS)"
   ]
  },
  {
   "cell_type": "code",
   "execution_count": 11,
   "id": "061bdf14",
   "metadata": {},
   "outputs": [],
   "source": [
    "# flatten, cnn, lstm, attention 추가\n",
    "# 모델 class 형태로 변형\n",
    "\n",
    "def set_model(CONFIGS, model_name=None, print_summary=False):\n",
    "    \n",
    "    inputs = Input(batch_shape=(\n",
    "        None, CONFIGS['window_size'], len(CONFIGS['input_cols'])\n",
    "    ), name='inputs')\n",
    "    \n",
    "    if CONFIGS['model_type'] == 'flatten':\n",
    "        flatten = Flatten(name='flatten')(inputs)\n",
    "    elif CONFIGS['model_type'] == 'cnn':\n",
    "        reshape = Reshape(target_shape=(\n",
    "            CONFIGS['window_size'], len(CONFIGS['input_cols']), 1\n",
    "        ), name='reshape')(inputs)\n",
    "        conv_0 = Conv2D(8, (3, 1), strides=(2, 1), activation='relu', name='conv_0')(reshape)\n",
    "        pool_0 = MaxPool2D((2, 1), name='pool_0')(conv_0)\n",
    "        conv_1 = Conv2D(16, (3, 1), strides=(2, 1), activation='relu', name='conv_1')(pool_0)\n",
    "        pool_1 = MaxPool2D((2, 1), name='pool_1')(conv_1)\n",
    "        flatten = Flatten(name='flatten')(pool_1)\n",
    "    elif CONFIGS['model_type'] == 'bilstm':\n",
    "        bilstm_0 = Bidirectional(LSTM(\n",
    "            16, return_sequences=True, recurrent_dropout=0.3, activation='relu'\n",
    "        ), name='bilstm_0')(inputs)\n",
    "        bilstm_1 = Bidirectional(LSTM(\n",
    "            32, recurrent_dropout=0.3, activation='relu'\n",
    "        ), name='bilstm_1')(bilstm_0)\n",
    "        flatten = Flatten(name='flatten')(bilstm_1)\n",
    "#     elif CONFIGS['model_type'] == 'attention':\n",
    "        \n",
    "    dense_0 = Dense(64, activation='relu', name='dense_0')(flatten)\n",
    "    dense_1 = Dense(32, activation='relu', name='dense_1')(dense_0)\n",
    "    outputs = Dense(CONFIGS['target_length'], name='outputs')(dense_1)\n",
    "    \n",
    "    if not model_name:\n",
    "        model_name = CONFIGS['model_name']\n",
    "    \n",
    "    model = Model(\n",
    "        inputs, outputs,\n",
    "        name = model_name\n",
    "    )\n",
    "    \n",
    "    optimizer = Adam(learning_rate=CONFIGS['learning_rate'])\n",
    "    model.compile(\n",
    "        loss = MeanSquaredError(),\n",
    "        optimizer = optimizer,\n",
    "    )\n",
    "    \n",
    "    if print_summary:\n",
    "        model.summary()\n",
    "    \n",
    "    return model"
   ]
  },
  {
   "cell_type": "code",
   "execution_count": 12,
   "id": "5f7f330d",
   "metadata": {},
   "outputs": [
    {
     "name": "stdout",
     "output_type": "stream",
     "text": [
      "Model: \"multi_input\"\n",
      "_________________________________________________________________\n",
      "Layer (type)                 Output Shape              Param #   \n",
      "=================================================================\n",
      "inputs (InputLayer)          [(None, 168, 14)]         0         \n",
      "_________________________________________________________________\n",
      "reshape (Reshape)            (None, 168, 14, 1)        0         \n",
      "_________________________________________________________________\n",
      "conv_0 (Conv2D)              (None, 83, 14, 8)         32        \n",
      "_________________________________________________________________\n",
      "pool_0 (MaxPooling2D)        (None, 41, 14, 8)         0         \n",
      "_________________________________________________________________\n",
      "conv_1 (Conv2D)              (None, 20, 14, 16)        400       \n",
      "_________________________________________________________________\n",
      "pool_1 (MaxPooling2D)        (None, 10, 14, 16)        0         \n",
      "_________________________________________________________________\n",
      "flatten (Flatten)            (None, 2240)              0         \n",
      "_________________________________________________________________\n",
      "dense_0 (Dense)              (None, 64)                143424    \n",
      "_________________________________________________________________\n",
      "dense_1 (Dense)              (None, 32)                2080      \n",
      "_________________________________________________________________\n",
      "outputs (Dense)              (None, 3)                 99        \n",
      "=================================================================\n",
      "Total params: 146,035\n",
      "Trainable params: 146,035\n",
      "Non-trainable params: 0\n",
      "_________________________________________________________________\n"
     ]
    }
   ],
   "source": [
    "model = set_model(CONFIGS, print_summary=True)\n",
    "# model = set_model(CONFIGS, 'bilstm', print_summary=True)"
   ]
  },
  {
   "cell_type": "code",
   "execution_count": 13,
   "id": "a89ab345",
   "metadata": {},
   "outputs": [],
   "source": [
    "def train_model(model, train_ds, valid_ds, CONFIGS):\n",
    "    \n",
    "    early_stop = EarlyStopping(\n",
    "        patience=CONFIGS['es_patience']\n",
    "    )\n",
    "    save_best_only = ModelCheckpoint(\n",
    "        filepath = f'{CONFIGS[\"model_path\"]}{CONFIGS[\"model_name\"]}.h5',\n",
    "        monitor = 'val_loss',\n",
    "        save_best_only = True,\n",
    "        save_weights_only = True\n",
    "    )\n",
    "    \n",
    "    history = model.fit(\n",
    "        train_ds,\n",
    "        batch_size = CONFIGS['batch_size'],\n",
    "        epochs = CONFIGS['epochs'],\n",
    "        validation_data = valid_ds,\n",
    "        callbacks = [\n",
    "            early_stop,\n",
    "            save_best_only,\n",
    "        ]\n",
    "    )\n",
    "    \n",
    "    return history"
   ]
  },
  {
   "cell_type": "code",
   "execution_count": 14,
   "id": "456b660b",
   "metadata": {
    "scrolled": true
   },
   "outputs": [
    {
     "name": "stdout",
     "output_type": "stream",
     "text": [
      "Epoch 1/100\n",
      "29/29 [==============================] - 2s 9ms/step - loss: 7818196287488.0000 - val_loss: 743945797632.0000\n",
      "Epoch 2/100\n",
      "29/29 [==============================] - 0s 3ms/step - loss: 340416004096.0000 - val_loss: 1158880256.0000\n",
      "Epoch 3/100\n",
      "29/29 [==============================] - 0s 4ms/step - loss: 15383173120.0000 - val_loss: 2532577792.0000\n",
      "Epoch 4/100\n",
      "29/29 [==============================] - 0s 3ms/step - loss: 949856576.0000 - val_loss: 22795988.0000\n",
      "Epoch 5/100\n",
      "29/29 [==============================] - 0s 3ms/step - loss: 40000508.0000 - val_loss: 1314307.6250\n",
      "Epoch 6/100\n",
      "29/29 [==============================] - 0s 3ms/step - loss: 2010272.0000 - val_loss: 277754.5000\n",
      "Epoch 7/100\n",
      "29/29 [==============================] - 0s 3ms/step - loss: 123320.3125 - val_loss: 23086.6465\n",
      "Epoch 8/100\n",
      "29/29 [==============================] - 0s 3ms/step - loss: 11847.4141 - val_loss: 7186.3330\n",
      "Epoch 9/100\n",
      "29/29 [==============================] - 0s 3ms/step - loss: 8486.5518 - val_loss: 9093.6777\n",
      "Epoch 10/100\n",
      "29/29 [==============================] - 0s 3ms/step - loss: 8793.6553 - val_loss: 8358.9316\n",
      "Epoch 11/100\n",
      "29/29 [==============================] - 0s 3ms/step - loss: 10617.4492 - val_loss: 8992.8223\n",
      "Epoch 12/100\n",
      "29/29 [==============================] - 0s 3ms/step - loss: 16676.8457 - val_loss: 7171.8682\n",
      "Epoch 13/100\n",
      "29/29 [==============================] - 0s 3ms/step - loss: 11302.2725 - val_loss: 7422.3062\n",
      "Epoch 14/100\n",
      "29/29 [==============================] - 0s 3ms/step - loss: 9704.5869 - val_loss: 5577.3955\n",
      "Epoch 15/100\n",
      "29/29 [==============================] - 0s 3ms/step - loss: 8889.3418 - val_loss: 7200.7964\n",
      "Epoch 16/100\n",
      "29/29 [==============================] - 0s 3ms/step - loss: 12347.5918 - val_loss: 47325.1680\n",
      "Epoch 17/100\n",
      "29/29 [==============================] - 0s 3ms/step - loss: 13785.1221 - val_loss: 8425.7383\n",
      "Epoch 18/100\n",
      "29/29 [==============================] - 0s 3ms/step - loss: 9031.5850 - val_loss: 34659.2852\n",
      "Epoch 19/100\n",
      "29/29 [==============================] - 0s 3ms/step - loss: 13051.1699 - val_loss: 40702.2617\n",
      "Epoch 20/100\n",
      "29/29 [==============================] - 0s 3ms/step - loss: 16735.7129 - val_loss: 5812.4482\n",
      "Epoch 21/100\n",
      "29/29 [==============================] - 0s 3ms/step - loss: 10326.7324 - val_loss: 12153.6396\n",
      "Epoch 22/100\n",
      "29/29 [==============================] - 0s 3ms/step - loss: 10842.3428 - val_loss: 7755.9858\n",
      "Epoch 23/100\n",
      "29/29 [==============================] - 0s 3ms/step - loss: 8774.5947 - val_loss: 9310.4814\n",
      "Epoch 24/100\n",
      "29/29 [==============================] - 0s 3ms/step - loss: 9099.2832 - val_loss: 18518.5254\n"
     ]
    }
   ],
   "source": [
    "history = train_model(model, train_ds, valid_ds, CONFIGS)"
   ]
  },
  {
   "cell_type": "code",
   "execution_count": 15,
   "id": "e3affb87",
   "metadata": {},
   "outputs": [],
   "source": [
    "best_model = set_model(CONFIGS, model_name='best_'+CONFIGS['model_name'])\n",
    "best_model.load_weights(f'{CONFIGS[\"model_path\"]}{CONFIGS[\"model_name\"]}.h5')"
   ]
  },
  {
   "cell_type": "code",
   "execution_count": 16,
   "id": "d0d41640",
   "metadata": {},
   "outputs": [],
   "source": [
    "y_train_pred = best_model.predict(train_ds)\n",
    "y_valid_pred = best_model.predict(valid_ds)\n",
    "y_test_pred = best_model.predict(test_ds)"
   ]
  },
  {
   "cell_type": "code",
   "execution_count": 17,
   "id": "96ae1a3f",
   "metadata": {},
   "outputs": [
    {
     "name": "stdout",
     "output_type": "stream",
     "text": [
      "train_loss: 9082.861328125\n",
      "valid_loss: 5577.3955078125\n",
      "test_loss: 13567.5966796875\n"
     ]
    }
   ],
   "source": [
    "train_loss = best_model.evaluate(train_ds, verbose=0)\n",
    "valid_loss = best_model.evaluate(valid_ds, verbose=0)\n",
    "test_loss = best_model.evaluate(test_ds, verbose=0)\n",
    "\n",
    "print(f'train_loss: {train_loss}')\n",
    "print(f'valid_loss: {valid_loss}')\n",
    "print(f'test_loss: {test_loss}')"
   ]
  },
  {
   "cell_type": "code",
   "execution_count": null,
   "id": "26476f5e",
   "metadata": {},
   "outputs": [],
   "source": []
  }
 ],
 "metadata": {
  "kernelspec": {
   "display_name": "Python 3",
   "language": "python",
   "name": "python3"
  },
  "language_info": {
   "codemirror_mode": {
    "name": "ipython",
    "version": 3
   },
   "file_extension": ".py",
   "mimetype": "text/x-python",
   "name": "python",
   "nbconvert_exporter": "python",
   "pygments_lexer": "ipython3",
   "version": "3.6.9"
  }
 },
 "nbformat": 4,
 "nbformat_minor": 5
}
