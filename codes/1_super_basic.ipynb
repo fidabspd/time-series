{
 "cells": [
  {
   "cell_type": "code",
   "execution_count": 1,
   "id": "5893ba0e",
   "metadata": {},
   "outputs": [],
   "source": [
    "from copy import deepcopy\n",
    "\n",
    "import numpy as np\n",
    "import pandas as pd\n",
    "\n",
    "from tensorflow.keras.layers import *\n",
    "from tensorflow.keras.models import Model\n",
    "from tensorflow.keras.optimizers import Adam\n",
    "from tensorflow.keras.callbacks import EarlyStopping, ModelCheckpoint\n",
    "from tensorflow.keras.losses import MeanSquaredError"
   ]
  },
  {
   "cell_type": "code",
   "execution_count": 2,
   "id": "7ea5f403",
   "metadata": {},
   "outputs": [],
   "source": [
    "# 총 2040개의 데이터\n",
    "# 0:1992 -> train\n",
    "# 1992:2016 -> valid\n",
    "# 2016:2040 -> test\n",
    "\n",
    "CONFIGS = {\n",
    "    'data_path': '../data/',\n",
    "    'model_path': '../model/',\n",
    "    'model_name': 'super_basic',\n",
    "    \n",
    "    'test_lenght': 24,\n",
    "    'valid_start_index': 1992,\n",
    "    'test_start_index': 2016,\n",
    "    \n",
    "    'batch_size': 64,\n",
    "    'learning_rate': 1e-4,\n",
    "    'epochs': 100,\n",
    "    'es_patience': 10,\n",
    "    \n",
    "    'window_size': 7*24,\n",
    "    'target_length': 3,\n",
    "}"
   ]
  },
  {
   "cell_type": "code",
   "execution_count": 3,
   "id": "fd2fa30f",
   "metadata": {},
   "outputs": [],
   "source": [
    "data_path = '../data/'\n",
    "\n",
    "train_origin = pd.read_csv(data_path+'train.csv', encoding='cp949')"
   ]
  },
  {
   "cell_type": "code",
   "execution_count": 4,
   "id": "6f3d371c",
   "metadata": {},
   "outputs": [
    {
     "name": "stdout",
     "output_type": "stream",
     "text": [
      "data.shape: (2040, 1)\n"
     ]
    }
   ],
   "source": [
    "data = deepcopy(train_origin)\n",
    "\n",
    "data.columns = [\n",
    "    'num', 'date_time', 'target', 'temp', 'wind',\n",
    "    'humid', 'rain', 'sun', 'non_elec_eq', 'sunlight_eq'\n",
    "]\n",
    "\n",
    "data = data.loc[data['num'] == 1, ['target']]\n",
    "\n",
    "print(f'data.shape: {data.shape}')"
   ]
  },
  {
   "cell_type": "code",
   "execution_count": 5,
   "id": "6bdd549c",
   "metadata": {},
   "outputs": [],
   "source": [
    "input_cols = [f't-{i}' for i in range(CONFIGS['window_size'], 0, -1)]\n",
    "target_cols = [f't+{i}' for i in range(CONFIGS['target_length'])]\n",
    "\n",
    "CONFIGS['input_cols'] = input_cols\n",
    "CONFIGS['target_cols'] = target_cols"
   ]
  },
  {
   "cell_type": "code",
   "execution_count": 6,
   "id": "3c5ea78a",
   "metadata": {},
   "outputs": [],
   "source": [
    "def mk_time_series(data):\n",
    "    \n",
    "    new_data_length = data.shape[0]-CONFIGS['window_size']-CONFIGS['target_length']+1\n",
    "    new_data_shape = (new_data_length, CONFIGS['window_size']+CONFIGS['target_length'])\n",
    "    new_data = np.zeros(new_data_shape)\n",
    "\n",
    "    for i in range(new_data_length):\n",
    "        new_data[i, :CONFIGS['window_size']] = data['target'][i:i+CONFIGS['window_size']]\n",
    "        new_data[i, CONFIGS['window_size']:] = \\\n",
    "            data['target'][i+CONFIGS['window_size']:i+CONFIGS['window_size']+CONFIGS['target_length']]\n",
    "\n",
    "    new_data = pd.DataFrame(new_data)\n",
    "    new_data.columns = input_cols + target_cols\n",
    "    \n",
    "    return new_data"
   ]
  },
  {
   "cell_type": "code",
   "execution_count": 7,
   "id": "acfd74ea",
   "metadata": {},
   "outputs": [],
   "source": [
    "def split_data(data, CONFIGS):\n",
    "    \n",
    "    train = data[:CONFIGS['valid_start_index']]\n",
    "    valid = data[\n",
    "        CONFIGS['valid_start_index']-CONFIGS['window_size']:\\\n",
    "        CONFIGS['valid_start_index']+CONFIGS['test_lenght']\n",
    "    ]\n",
    "    test = data[\n",
    "        CONFIGS['test_start_index']-CONFIGS['window_size']:\\\n",
    "        CONFIGS['test_start_index']+CONFIGS['test_lenght']\n",
    "    ]\n",
    "    \n",
    "    train, valid, test = \\\n",
    "        mk_time_series(train), mk_time_series(valid), mk_time_series(test)\n",
    "    \n",
    "    return train, valid, test"
   ]
  },
  {
   "cell_type": "code",
   "execution_count": 8,
   "id": "5013b6d6",
   "metadata": {},
   "outputs": [],
   "source": [
    "train, valid, test = split_data(data, CONFIGS)"
   ]
  },
  {
   "cell_type": "code",
   "execution_count": 9,
   "id": "b4d01667",
   "metadata": {},
   "outputs": [],
   "source": [
    "def set_model(CONFIGS, model_name = None, print_summary=False):\n",
    "    inputs = Input(batch_shape=(None, CONFIGS['window_size']), name='inputs')\n",
    "    dense_0 = Dense(64, activation='relu', name='dense_0')(inputs)\n",
    "    dense_1 = Dense(32, activation='relu', name='dense_1')(dense_0)\n",
    "    outputs = Dense(CONFIGS['target_length'], name='outputs')(dense_1)\n",
    "    \n",
    "    if not model_name:\n",
    "        model_name = CONFIGS['model_name']\n",
    "    \n",
    "    model = Model(\n",
    "        inputs, outputs,\n",
    "        name = model_name\n",
    "    )\n",
    "    \n",
    "    optimizer = Adam(learning_rate=CONFIGS['learning_rate'])\n",
    "    model.compile(\n",
    "        loss = MeanSquaredError(),\n",
    "        optimizer = optimizer,\n",
    "    )\n",
    "    \n",
    "    if print_summary:\n",
    "        model.summary()\n",
    "    \n",
    "    return model"
   ]
  },
  {
   "cell_type": "code",
   "execution_count": 10,
   "id": "a446abff",
   "metadata": {
    "scrolled": true
   },
   "outputs": [
    {
     "name": "stdout",
     "output_type": "stream",
     "text": [
      "Model: \"super_basic\"\n",
      "_________________________________________________________________\n",
      "Layer (type)                 Output Shape              Param #   \n",
      "=================================================================\n",
      "inputs (InputLayer)          [(None, 168)]             0         \n",
      "_________________________________________________________________\n",
      "dense_0 (Dense)              (None, 64)                10816     \n",
      "_________________________________________________________________\n",
      "dense_1 (Dense)              (None, 32)                2080      \n",
      "_________________________________________________________________\n",
      "outputs (Dense)              (None, 3)                 99        \n",
      "=================================================================\n",
      "Total params: 12,995\n",
      "Trainable params: 12,995\n",
      "Non-trainable params: 0\n",
      "_________________________________________________________________\n"
     ]
    }
   ],
   "source": [
    "model = set_model(CONFIGS, print_summary=True)"
   ]
  },
  {
   "cell_type": "code",
   "execution_count": 11,
   "id": "f120102c",
   "metadata": {},
   "outputs": [],
   "source": [
    "def train_model(model, train, valid, CONFIGS):\n",
    "    \n",
    "    X_train, y_train = train[CONFIGS['input_cols']], train[CONFIGS['target_cols']]\n",
    "    X_valid, y_valid = valid[CONFIGS['input_cols']], valid[CONFIGS['target_cols']]\n",
    "    \n",
    "    early_stop = EarlyStopping(\n",
    "        patience=CONFIGS['es_patience']\n",
    "    )\n",
    "    save_best_only = ModelCheckpoint(\n",
    "        filepath = f'{CONFIGS[\"model_path\"]}{CONFIGS[\"model_name\"]}.h5',\n",
    "        monitor = 'val_loss',\n",
    "        save_best_only = True,\n",
    "        save_weights_only = True\n",
    "    )\n",
    "    \n",
    "    history = model.fit(\n",
    "        X_train, y_train,\n",
    "        batch_size = CONFIGS['batch_size'],\n",
    "        epochs = CONFIGS['epochs'],\n",
    "        validation_data = (X_valid, y_valid),\n",
    "        callbacks = [\n",
    "            early_stop,\n",
    "            save_best_only,\n",
    "        ]\n",
    "    )\n",
    "    \n",
    "    return history"
   ]
  },
  {
   "cell_type": "code",
   "execution_count": 12,
   "id": "8179dd95",
   "metadata": {
    "scrolled": true
   },
   "outputs": [
    {
     "name": "stdout",
     "output_type": "stream",
     "text": [
      "Epoch 1/100\n",
      "29/29 [==============================] - 1s 5ms/step - loss: 29171228.0000 - val_loss: 2767708.2500\n",
      "Epoch 2/100\n",
      "29/29 [==============================] - 0s 2ms/step - loss: 529744.9375 - val_loss: 99979.0703\n",
      "Epoch 3/100\n",
      "29/29 [==============================] - 0s 2ms/step - loss: 44502.1953 - val_loss: 21834.5625\n",
      "Epoch 4/100\n",
      "29/29 [==============================] - 0s 2ms/step - loss: 10805.7334 - val_loss: 20649.0137\n",
      "Epoch 5/100\n",
      "29/29 [==============================] - 0s 2ms/step - loss: 10354.5117 - val_loss: 20345.8496\n",
      "Epoch 6/100\n",
      "29/29 [==============================] - 0s 2ms/step - loss: 10248.9678 - val_loss: 21853.8438\n",
      "Epoch 7/100\n",
      "29/29 [==============================] - 0s 2ms/step - loss: 10241.2285 - val_loss: 22073.1680\n",
      "Epoch 8/100\n",
      "29/29 [==============================] - 0s 2ms/step - loss: 10230.7256 - val_loss: 21134.9453\n",
      "Epoch 9/100\n",
      "29/29 [==============================] - 0s 2ms/step - loss: 10218.5537 - val_loss: 20939.6914\n",
      "Epoch 10/100\n",
      "29/29 [==============================] - 0s 2ms/step - loss: 10228.7090 - val_loss: 19790.1543\n",
      "Epoch 11/100\n",
      "29/29 [==============================] - 0s 2ms/step - loss: 10223.0098 - val_loss: 21153.4766\n",
      "Epoch 12/100\n",
      "29/29 [==============================] - 0s 2ms/step - loss: 10214.4053 - val_loss: 18075.7363\n",
      "Epoch 13/100\n",
      "29/29 [==============================] - 0s 2ms/step - loss: 10290.8223 - val_loss: 17620.7832\n",
      "Epoch 14/100\n",
      "29/29 [==============================] - 0s 2ms/step - loss: 10234.0977 - val_loss: 19084.3828\n",
      "Epoch 15/100\n",
      "29/29 [==============================] - 0s 2ms/step - loss: 10229.2598 - val_loss: 21611.3438\n",
      "Epoch 16/100\n",
      "29/29 [==============================] - 0s 2ms/step - loss: 10208.3818 - val_loss: 22781.2500\n",
      "Epoch 17/100\n",
      "29/29 [==============================] - 0s 2ms/step - loss: 10217.0498 - val_loss: 21764.4785\n",
      "Epoch 18/100\n",
      "29/29 [==============================] - 0s 2ms/step - loss: 10208.7510 - val_loss: 23027.1270\n",
      "Epoch 19/100\n",
      "29/29 [==============================] - 0s 2ms/step - loss: 10224.2930 - val_loss: 21797.2617\n",
      "Epoch 20/100\n",
      "29/29 [==============================] - 0s 2ms/step - loss: 10264.1152 - val_loss: 19810.0078\n",
      "Epoch 21/100\n",
      "29/29 [==============================] - 0s 2ms/step - loss: 10199.9482 - val_loss: 20021.9043\n",
      "Epoch 22/100\n",
      "29/29 [==============================] - 0s 2ms/step - loss: 10202.5488 - val_loss: 20071.9180\n",
      "Epoch 23/100\n",
      "29/29 [==============================] - 0s 2ms/step - loss: 10180.3438 - val_loss: 19211.3301\n"
     ]
    }
   ],
   "source": [
    "history = train_model(model, train, valid, CONFIGS)"
   ]
  },
  {
   "cell_type": "code",
   "execution_count": 13,
   "id": "bec53ea7",
   "metadata": {},
   "outputs": [],
   "source": [
    "best_model = set_model(CONFIGS, model_name='best_'+CONFIGS['model_name'])\n",
    "best_model.load_weights(f'{CONFIGS[\"model_path\"]}{CONFIGS[\"model_name\"]}.h5')"
   ]
  },
  {
   "cell_type": "code",
   "execution_count": 14,
   "id": "e87104d7",
   "metadata": {},
   "outputs": [],
   "source": [
    "X_train, y_train = train[CONFIGS['input_cols']], train[CONFIGS['target_cols']]\n",
    "X_valid, y_valid = valid[CONFIGS['input_cols']], valid[CONFIGS['target_cols']]\n",
    "X_test, y_test = test[CONFIGS['input_cols']], test[CONFIGS['target_cols']]\n",
    "\n",
    "y_train_pred = best_model.predict(X_train)\n",
    "y_valid_pred = best_model.predict(X_valid)\n",
    "y_test_pred = best_model.predict(X_test)"
   ]
  },
  {
   "cell_type": "code",
   "execution_count": 15,
   "id": "2e94d02c",
   "metadata": {},
   "outputs": [
    {
     "name": "stdout",
     "output_type": "stream",
     "text": [
      "train_loss: 10422.763671875\n",
      "valid_loss: 17620.783203125\n",
      "test_loss: 21256.591796875\n"
     ]
    }
   ],
   "source": [
    "train_loss = best_model.evaluate(X_train, y_train, verbose=0)\n",
    "valid_loss = best_model.evaluate(X_valid, y_valid, verbose=0)\n",
    "test_loss = best_model.evaluate(X_test, y_test, verbose=0)\n",
    "\n",
    "print(f'train_loss: {train_loss}')\n",
    "print(f'valid_loss: {valid_loss}')\n",
    "print(f'test_loss: {test_loss}')"
   ]
  },
  {
   "cell_type": "code",
   "execution_count": null,
   "id": "888fe60b",
   "metadata": {},
   "outputs": [],
   "source": []
  }
 ],
 "metadata": {
  "kernelspec": {
   "display_name": "Python 3",
   "language": "python",
   "name": "python3"
  },
  "language_info": {
   "codemirror_mode": {
    "name": "ipython",
    "version": 3
   },
   "file_extension": ".py",
   "mimetype": "text/x-python",
   "name": "python",
   "nbconvert_exporter": "python",
   "pygments_lexer": "ipython3",
   "version": "3.6.9"
  }
 },
 "nbformat": 4,
 "nbformat_minor": 5
}
